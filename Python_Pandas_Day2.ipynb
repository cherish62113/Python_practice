{
 "cells": [
  {
   "cell_type": "code",
   "execution_count": 1,
   "id": "e4e36188",
   "metadata": {},
   "outputs": [
    {
     "name": "stdout",
     "output_type": "stream",
     "text": [
      "讀取檔案\n",
      "一、將文件內的行名(列標題)放入col_name變數並列印\n",
      "['NDB_No', 'Shrt_Desc', 'Water_(g)', 'Energ_Kcal', 'Protein_(g)', 'Lipid_Tot_(g)', 'Ash_(g)', 'Carbohydrt_(g)', 'Fiber_TD_(g)', 'Sugar_Tot_(g)', 'Calcium_(mg)', 'Iron_(mg)', 'Magnesium_(mg)', 'Phosphorus_(mg)', 'Potassium_(mg)', 'Sodium_(mg)', 'Zinc_(mg)', 'Copper_(mg)', 'Manganese_(mg)', 'Selenium_(mcg)', 'Vit_C_(mg)', 'Thiamin_(mg)', 'Riboflavin_(mg)', 'Niacin_(mg)', 'Vit_B6_(mg)', 'Vit_B12_(mcg)', 'Vit_A_IU', 'Vit_A_RAE', 'Vit_E_(mg)', 'Vit_D_mcg', 'Vit_D_IU', 'Vit_K_(mcg)', 'FA_Sat_(g)', 'FA_Mono_(g)', 'FA_Poly_(g)', 'Cholestrl_(mg)']\n"
     ]
    }
   ],
   "source": [
    "import pandas as pd\n",
    "print(\"讀取檔案\")\n",
    "food_info = pd.read_csv(\"food_info.csv\")\n",
    "print(\"一、將文件內的行名(列標題)放入col_name變數並列印\")\n",
    "col_names = food_info.columns.tolist()\n",
    "print(col_names)"
   ]
  },
  {
   "cell_type": "code",
   "execution_count": 2,
   "id": "b6f25180",
   "metadata": {},
   "outputs": [
    {
     "name": "stdout",
     "output_type": "stream",
     "text": [
      "二、列印3列(分別為【列標題】第0列，第1列，第2列)\n",
      "   NDB_No                 Shrt_Desc  Water_(g)  Energ_Kcal  Protein_(g)  \\\n",
      "0    1001          BUTTER WITH SALT      15.87         717         0.85   \n",
      "1    1002  BUTTER WHIPPED WITH SALT      15.87         717         0.85   \n",
      "2    1003      BUTTER OIL ANHYDROUS       0.24         876         0.28   \n",
      "\n",
      "   Lipid_Tot_(g)  Ash_(g)  Carbohydrt_(g)  Fiber_TD_(g)  Sugar_Tot_(g)  ...  \\\n",
      "0          81.11     2.11            0.06           0.0           0.06  ...   \n",
      "1          81.11     2.11            0.06           0.0           0.06  ...   \n",
      "2          99.48     0.00            0.00           0.0           0.00  ...   \n",
      "\n",
      "   Vit_A_IU  Vit_A_RAE  Vit_E_(mg)  Vit_D_mcg  Vit_D_IU  Vit_K_(mcg)  \\\n",
      "0    2499.0      684.0        2.32        1.5      60.0          7.0   \n",
      "1    2499.0      684.0        2.32        1.5      60.0          7.0   \n",
      "2    3069.0      840.0        2.80        1.8      73.0          8.6   \n",
      "\n",
      "   FA_Sat_(g)  FA_Mono_(g)  FA_Poly_(g)  Cholestrl_(mg)  \n",
      "0      51.368       21.021        3.043           215.0  \n",
      "1      50.489       23.426        3.012           219.0  \n",
      "2      61.924       28.732        3.694           256.0  \n",
      "\n",
      "[3 rows x 36 columns]\n"
     ]
    }
   ],
   "source": [
    "print(\"二、列印3列(分別為【列標題】第0列，第1列，第2列)\")\n",
    "print(food_info.head(3))"
   ]
  },
  {
   "cell_type": "code",
   "execution_count": 3,
   "id": "721bd594",
   "metadata": {},
   "outputs": [
    {
     "name": "stdout",
     "output_type": "stream",
     "text": [
      "三、列印Iron_(mg)這一行\n",
      "0       0.02\n",
      "1       0.16\n",
      "2       0.00\n",
      "3       0.31\n",
      "4       0.43\n",
      "        ... \n",
      "8613    1.40\n",
      "8614    0.58\n",
      "8615    3.60\n",
      "8616    3.50\n",
      "8617    1.40\n",
      "Name: Iron_(mg), Length: 8618, dtype: float64\n",
      "---------------------\n",
      "四、直接取值做運算\n",
      "除法\n",
      "0       0.00002\n",
      "1       0.00016\n",
      "2       0.00000\n",
      "3       0.00031\n",
      "4       0.00043\n",
      "         ...   \n",
      "8613    0.00140\n",
      "8614    0.00058\n",
      "8615    0.00360\n",
      "8616    0.00350\n",
      "8617    0.00140\n",
      "Name: Iron_(mg), Length: 8618, dtype: float64\n",
      "加法\n",
      "0       100.02\n",
      "1       100.16\n",
      "2       100.00\n",
      "3       100.31\n",
      "4       100.43\n",
      "         ...  \n",
      "8613    101.40\n",
      "8614    100.58\n",
      "8615    103.60\n",
      "8616    103.50\n",
      "8617    101.40\n",
      "Name: Iron_(mg), Length: 8618, dtype: float64\n",
      "減法\n",
      "0       -99.98\n",
      "1       -99.84\n",
      "2      -100.00\n",
      "3       -99.69\n",
      "4       -99.57\n",
      "         ...  \n",
      "8613    -98.60\n",
      "8614    -99.42\n",
      "8615    -96.40\n",
      "8616    -96.50\n",
      "8617    -98.60\n",
      "Name: Iron_(mg), Length: 8618, dtype: float64\n",
      "乘法\n",
      "0       0.04\n",
      "1       0.32\n",
      "2       0.00\n",
      "3       0.62\n",
      "4       0.86\n",
      "        ... \n",
      "8613    2.80\n",
      "8614    1.16\n",
      "8615    7.20\n",
      "8616    7.00\n",
      "8617    2.80\n",
      "Name: Iron_(mg), Length: 8618, dtype: float64\n"
     ]
    }
   ],
   "source": [
    "print(\"三、列印Iron_(mg)這一行\")\n",
    "print (food_info[\"Iron_(mg)\"])\n",
    "print(\"---------------------\")\n",
    "print(\"四、直接取值做運算\")\n",
    "print(\"除法\")\n",
    "div_1000 = food_info[\"Iron_(mg)\"] / 1000\n",
    "print (div_1000)\n",
    "print(\"加法\")\n",
    "add_100 = food_info[\"Iron_(mg)\"] + 100\n",
    "print(add_100)\n",
    "print(\"減法\")\n",
    "sub_100 = food_info[\"Iron_(mg)\"] - 100\n",
    "print(sub_100)\n",
    "print(\"乘法\")\n",
    "mult_2 = food_info[\"Iron_(mg)\"]*2\n",
    "print(mult_2)"
   ]
  },
  {
   "cell_type": "code",
   "execution_count": 4,
   "id": "6b2fdd54",
   "metadata": {},
   "outputs": [
    {
     "name": "stdout",
     "output_type": "stream",
     "text": [
      "五、也可以直接取兩個值直接做運算\n",
      "0       15.87\n",
      "1       15.87\n",
      "2        0.24\n",
      "3       42.41\n",
      "4       41.11\n",
      "        ...  \n",
      "8613    43.00\n",
      "8614    70.25\n",
      "8615    26.00\n",
      "8616    79.20\n",
      "8617    78.50\n",
      "Name: Water_(g), Length: 8618, dtype: float64\n",
      "0       717\n",
      "1       717\n",
      "2       876\n",
      "3       353\n",
      "4       371\n",
      "       ... \n",
      "8613    305\n",
      "8614    111\n",
      "8615    269\n",
      "8616     90\n",
      "8617     89\n",
      "Name: Energ_Kcal, Length: 8618, dtype: int64\n",
      "0       11378.79\n",
      "1       11378.79\n",
      "2         210.24\n",
      "3       14970.73\n",
      "4       15251.81\n",
      "          ...   \n",
      "8613    13115.00\n",
      "8614     7797.75\n",
      "8615     6994.00\n",
      "8616     7128.00\n",
      "8617     6986.50\n",
      "Length: 8618, dtype: float64\n"
     ]
    }
   ],
   "source": [
    "print(\"五、也可以直接取兩個值直接做運算\")\n",
    "print(food_info[\"Water_(g)\"])\n",
    "print(food_info[\"Energ_Kcal\"])\n",
    "water_energy = food_info[\"Water_(g)\"] * food_info[\"Energ_Kcal\"]\n",
    "print(water_energy)"
   ]
  },
  {
   "cell_type": "code",
   "execution_count": 5,
   "id": "87505c69",
   "metadata": {},
   "outputs": [
    {
     "name": "stdout",
     "output_type": "stream",
     "text": [
      "六、新增資料(並不影響原檔案)\n",
      "0       0.02\n",
      "1       0.16\n",
      "2       0.00\n",
      "3       0.31\n",
      "4       0.43\n",
      "        ... \n",
      "8613    1.40\n",
      "8614    0.58\n",
      "8615    3.60\n",
      "8616    3.50\n",
      "8617    1.40\n",
      "Name: Iron_(mg), Length: 8618, dtype: float64\n",
      "0       0.02\n",
      "1       0.16\n",
      "2       0.00\n",
      "3       0.31\n",
      "4       0.43\n",
      "        ... \n",
      "8613    1.40\n",
      "8614    0.58\n",
      "8615    3.60\n",
      "8616    3.50\n",
      "8617    1.40\n",
      "Name: Iron_(mg), Length: 8618, dtype: float64\n",
      "0       0.00002\n",
      "1       0.00016\n",
      "2       0.00000\n",
      "3       0.00031\n",
      "4       0.00043\n",
      "         ...   \n",
      "8613    0.00140\n",
      "8614    0.00058\n",
      "8615    0.00360\n",
      "8616    0.00350\n",
      "8617    0.00140\n",
      "Name: Iron_(g), Length: 8618, dtype: float64\n"
     ]
    }
   ],
   "source": [
    "print(\"六、新增資料(並不影響原檔案)\")\n",
    "print(food_info[\"Iron_(mg)\"])\n",
    "iron_grams = food_info[\"Iron_(mg)\"] / 1000  \n",
    "food_info[\"Iron_(g)\"] = iron_grams\n",
    "print(food_info[\"Iron_(mg)\"])\n",
    "print(food_info[\"Iron_(g)\"])"
   ]
  },
  {
   "cell_type": "code",
   "execution_count": 6,
   "id": "70339b86",
   "metadata": {},
   "outputs": [
    {
     "name": "stdout",
     "output_type": "stream",
     "text": [
      "七、較複雜的取值運算\n",
      "0      -59.1325\n",
      "1      -59.1325\n",
      "2      -74.0500\n",
      "3       21.2450\n",
      "4       24.2200\n",
      "         ...   \n",
      "8613    18.1750\n",
      "8614    40.4500\n",
      "8615     0.0000\n",
      "8616    31.1500\n",
      "8617    39.2250\n",
      "Length: 8618, dtype: float64\n"
     ]
    }
   ],
   "source": [
    "print(\"七、較複雜的取值運算\")\n",
    "weighted_protein = food_info[\"Protein_(g)\"] * 2\n",
    "weighted_fat = -0.75 * food_info[\"Lipid_Tot_(g)\"]\n",
    "initial_rating = weighted_protein + weighted_fat\n",
    "print(initial_rating)"
   ]
  },
  {
   "cell_type": "code",
   "execution_count": 13,
   "id": "36a7b1d7",
   "metadata": {},
   "outputs": [
    {
     "name": "stdout",
     "output_type": "stream",
     "text": [
      "八、取最大值並做運算，新增資料並不影響原檔案\n",
      "--------------方法一------------------\n",
      "0       0.009624\n",
      "1       0.009624\n",
      "2       0.003170\n",
      "3       0.242301\n",
      "4       0.263134\n",
      "          ...   \n",
      "8613    0.209466\n",
      "8614    0.232563\n",
      "8615    0.000000\n",
      "8616    0.182292\n",
      "8617    0.224185\n",
      "Name: Protein_(g), Length: 8618, dtype: float64\n",
      "--------------方法二------------------\n",
      "0       0.009624\n",
      "1       0.009624\n",
      "2       0.003170\n",
      "3       0.242301\n",
      "4       0.263134\n",
      "          ...   \n",
      "8613    0.209466\n",
      "8614    0.232563\n",
      "8615    0.000000\n",
      "8616    0.182292\n",
      "8617    0.224185\n",
      "Name: Normalized_Protein, Length: 8618, dtype: float64\n",
      "--------------方法一------------------\n",
      "0       0.8111\n",
      "1       0.8111\n",
      "2       0.9948\n",
      "3       0.2874\n",
      "4       0.2968\n",
      "         ...  \n",
      "8613    0.2510\n",
      "8614    0.0084\n",
      "8615    0.0000\n",
      "8616    0.0140\n",
      "8617    0.0050\n",
      "Name: Lipid_Tot_(g), Length: 8618, dtype: float64\n",
      "--------------方法二------------------\n",
      "0       0.8111\n",
      "1       0.8111\n",
      "2       0.9948\n",
      "3       0.2874\n",
      "4       0.2968\n",
      "         ...  \n",
      "8613    0.2510\n",
      "8614    0.0084\n",
      "8615    0.0000\n",
      "8616    0.0140\n",
      "8617    0.0050\n",
      "Name: Normalized_Fat, Length: 8618, dtype: float64\n"
     ]
    }
   ],
   "source": [
    "print(\"八、取最大值並做運算，新增資料並不影響原檔案\")\n",
    "max_calories = food_info[\"Energ_Kcal\"].max()\n",
    "normalized_calories = food_info[\"Energ_Kcal\"] / max_calories\n",
    "normalized_protein = food_info[\"Protein_(g)\"] / food_info[\"Protein_(g)\"].max()\n",
    "normalized_fat = food_info[\"Lipid_Tot_(g)\"] / food_info[\"Lipid_Tot_(g)\"].max()\n",
    "food_info[\"Normalized_Protein\"] = normalized_protein\n",
    "print(\"--------------方法一------------------\")\n",
    "print(normalized_protein)\n",
    "print(\"--------------方法二------------------\")\n",
    "print(food_info[\"Normalized_Protein\"])\n",
    "food_info[\"Normalized_Fat\"] = normalized_fat\n",
    "print(\"--------------方法一------------------\")\n",
    "print(normalized_fat)\n",
    "print(\"--------------方法二------------------\")\n",
    "print(food_info[\"Normalized_Fat\"])"
   ]
  },
  {
   "cell_type": "code",
   "execution_count": 14,
   "id": "de089269",
   "metadata": {},
   "outputs": [
    {
     "name": "stdout",
     "output_type": "stream",
     "text": [
      "九、 inplace=True 不額外新增資料，直接使用原資料做運算修改\n",
      "0        643.0\n",
      "1        659.0\n",
      "2          2.0\n",
      "3       1146.0\n",
      "4        560.0\n",
      "         ...  \n",
      "8613    4450.0\n",
      "8614     667.0\n",
      "8615      58.0\n",
      "8616      70.0\n",
      "8617      68.0\n",
      "Name: Sodium_(mg), Length: 8618, dtype: float64\n",
      "760     0.0\n",
      "758     0.0\n",
      "405     0.0\n",
      "761     0.0\n",
      "2269    0.0\n",
      "       ... \n",
      "8184    NaN\n",
      "8185    NaN\n",
      "8195    NaN\n",
      "8251    NaN\n",
      "8267    NaN\n",
      "Name: Sodium_(mg), Length: 8618, dtype: float64\n"
     ]
    }
   ],
   "source": [
    "print(\"九、 inplace=True 不額外新增資料，直接使用原資料做運算修改\")\n",
    "print (food_info[\"Sodium_(mg)\"])\n",
    "food_info.sort_values(\"Sodium_(mg)\", inplace=True)\n",
    "print (food_info[\"Sodium_(mg)\"])"
   ]
  },
  {
   "cell_type": "code",
   "execution_count": 15,
   "id": "d38087a1",
   "metadata": {},
   "outputs": [
    {
     "name": "stdout",
     "output_type": "stream",
     "text": [
      "十、將資料進行排序 ascending=False 為降序\n",
      "276     38758.0\n",
      "5814    27360.0\n",
      "6192    26050.0\n",
      "1242    26000.0\n",
      "1245    24000.0\n",
      "         ...   \n",
      "8184        NaN\n",
      "8185        NaN\n",
      "8195        NaN\n",
      "8251        NaN\n",
      "8267        NaN\n",
      "Name: Sodium_(mg), Length: 8618, dtype: float64\n"
     ]
    }
   ],
   "source": [
    "print(\"十、將資料進行排序 ascending=False 為降序\")\n",
    "food_info.sort_values(\"Sodium_(mg)\", inplace=True, ascending=False)  \n",
    "print (food_info[\"Sodium_(mg)\"])"
   ]
  },
  {
   "cell_type": "code",
   "execution_count": 16,
   "id": "7233ec76",
   "metadata": {},
   "outputs": [
    {
     "name": "stdout",
     "output_type": "stream",
     "text": [
      "十一、將資料進行排序 ascending=False 為升序\n",
      "760     0.0\n",
      "2269    0.0\n",
      "763     0.0\n",
      "770     0.0\n",
      "774     0.0\n",
      "       ... \n",
      "8184    NaN\n",
      "8185    NaN\n",
      "8195    NaN\n",
      "8251    NaN\n",
      "8267    NaN\n",
      "Name: Sodium_(mg), Length: 8618, dtype: float64\n"
     ]
    }
   ],
   "source": [
    "print(\"十一、將資料進行排序 ascending=False 為升序\")\n",
    "food_info.sort_values(\"Sodium_(mg)\", inplace=True, ascending=True)\n",
    "print (food_info[\"Sodium_(mg)\"])"
   ]
  },
  {
   "cell_type": "code",
   "execution_count": null,
   "id": "ec561767",
   "metadata": {},
   "outputs": [],
   "source": []
  }
 ],
 "metadata": {
  "kernelspec": {
   "display_name": "Python 3",
   "language": "python",
   "name": "python3"
  },
  "language_info": {
   "codemirror_mode": {
    "name": "ipython",
    "version": 3
   },
   "file_extension": ".py",
   "mimetype": "text/x-python",
   "name": "python",
   "nbconvert_exporter": "python",
   "pygments_lexer": "ipython3",
   "version": "3.9.2"
  }
 },
 "nbformat": 4,
 "nbformat_minor": 5
}
