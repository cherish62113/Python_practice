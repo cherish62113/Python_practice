{
 "cells": [
  {
   "cell_type": "code",
   "execution_count": 2,
   "id": "dbc9c5e7",
   "metadata": {},
   "outputs": [
    {
     "name": "stdout",
     "output_type": "stream",
     "text": [
      "建立一個1x4之列表\n",
      "[0 1 2]\n"
     ]
    }
   ],
   "source": [
    "import numpy as np\n",
    "B = np.arange(3)\n",
    "print(\"建立一個1x4之列表\")\n",
    "print (B)"
   ]
  },
  {
   "cell_type": "code",
   "execution_count": 3,
   "id": "401fae38",
   "metadata": {},
   "outputs": [
    {
     "name": "stdout",
     "output_type": "stream",
     "text": [
      "一、以自然數e為底的次方運算\n",
      "[1.         2.71828183 7.3890561 ]\n"
     ]
    }
   ],
   "source": [
    "print(\"一、以自然數e為底的次方運算\")\n",
    "print (np.exp(B))"
   ]
  },
  {
   "cell_type": "code",
   "execution_count": 4,
   "id": "532383f2",
   "metadata": {},
   "outputs": [
    {
     "name": "stdout",
     "output_type": "stream",
     "text": [
      "二、開根號運算(兩種方法)\n",
      "[0.         1.         1.41421356]\n",
      "[0.         1.         1.41421356]\n"
     ]
    }
   ],
   "source": [
    "print(\"二、開根號運算(兩種方法)\")\n",
    "print (np.sqrt(B))\n",
    "print (B**0.5)"
   ]
  },
  {
   "cell_type": "code",
   "execution_count": 5,
   "id": "2159dd15",
   "metadata": {},
   "outputs": [
    {
     "name": "stdout",
     "output_type": "stream",
     "text": [
      "三、建立一個3x4隨機列表(值0-1之間)取floor\n",
      "[[1. 2. 8. 4.]\n",
      " [2. 7. 4. 4.]\n",
      " [4. 4. 2. 5.]]\n"
     ]
    }
   ],
   "source": [
    "#np.random.random((形狀))  值 0~1之間\n",
    "#floor取下限整數 EX: 3.4 = 3\n",
    "print(\"三、建立一個3x4隨機列表(值0-1之間)取floor\")\n",
    "a = np.floor(10*np.random.random((3,4)))\n",
    "print (a)"
   ]
  },
  {
   "cell_type": "code",
   "execution_count": 6,
   "id": "ac823453",
   "metadata": {},
   "outputs": [
    {
     "name": "stdout",
     "output_type": "stream",
     "text": [
      "列表形狀操作\n",
      "(3, 4)\n"
     ]
    }
   ],
   "source": [
    "print(\"列表形狀操作\")\n",
    "print(a.shape)"
   ]
  },
  {
   "cell_type": "code",
   "execution_count": 7,
   "id": "e2f727bb",
   "metadata": {},
   "outputs": [
    {
     "name": "stdout",
     "output_type": "stream",
     "text": [
      "四、將列表變成一維陣列\n",
      "[1. 2. 8. 4. 2. 7. 4. 4. 4. 4. 2. 5.]\n"
     ]
    }
   ],
   "source": [
    "print(\"四、將列表變成一維陣列\")\n",
    "print (a.ravel())"
   ]
  },
  {
   "cell_type": "code",
   "execution_count": 8,
   "id": "9115189c",
   "metadata": {},
   "outputs": [
    {
     "name": "stdout",
     "output_type": "stream",
     "text": [
      "五、將矩陣轉置\n",
      "[[1. 2. 4.]\n",
      " [2. 7. 4.]\n",
      " [8. 4. 2.]\n",
      " [4. 4. 5.]]\n"
     ]
    }
   ],
   "source": [
    "print(\"五、將矩陣轉置\")\n",
    "print (a.T)"
   ]
  },
  {
   "cell_type": "code",
   "execution_count": 9,
   "id": "5f270b9d",
   "metadata": {},
   "outputs": [
    {
     "name": "stdout",
     "output_type": "stream",
     "text": [
      "六、更改列表形狀(但元素個數必須相同)\n",
      "[[1. 2.]\n",
      " [8. 4.]\n",
      " [2. 7.]\n",
      " [4. 4.]\n",
      " [4. 4.]\n",
      " [2. 5.]]\n"
     ]
    }
   ],
   "source": [
    "print(\"六、更改列表形狀(但元素個數必須相同)\")\n",
    "a.shape = (6,2)\n",
    "print (a)"
   ]
  },
  {
   "cell_type": "code",
   "execution_count": 10,
   "id": "c80544b5",
   "metadata": {},
   "outputs": [
    {
     "name": "stdout",
     "output_type": "stream",
     "text": [
      "七、更改列表大小(元素個數)超過原先列表元素將以零代之\n",
      "[[1. 2. 8. 4. 2. 7.]\n",
      " [4. 4. 4. 4. 2. 5.]]\n"
     ]
    }
   ],
   "source": [
    "print(\"七、更改列表大小(元素個數)超過原先列表元素將以零代之\")\n",
    "a.resize((2,6))\n",
    "print (a)"
   ]
  },
  {
   "cell_type": "code",
   "execution_count": 12,
   "id": "a08fa0b7",
   "metadata": {},
   "outputs": [
    {
     "name": "stdout",
     "output_type": "stream",
     "text": [
      "建立兩個2x2列表\n",
      "矩陣操作\n",
      "[[1 2]\n",
      " [3 4]]\n",
      "----------\n",
      "[[5 6]\n",
      " [7 8]]\n",
      "----------\n",
      "七、【Horizontal】橫向堆疊(合併)矩陣\n",
      "[[1 2 5 6]\n",
      " [3 4 7 8]]\n"
     ]
    }
   ],
   "source": [
    "print(\"建立兩個2x2列表\")\n",
    "a = np.array([[1,2],[3,4]])\n",
    "b = np.array([[5,6],[7,8]])\n",
    "print(\"矩陣操作\")\n",
    "print (a)\n",
    "print (\"----------\")\n",
    "print (b)\n",
    "print ('----------')\n",
    "print(\"七、【Horizontal】橫向堆疊(合併)矩陣\")\n",
    "print (np.hstack((a,b)))"
   ]
  },
  {
   "cell_type": "code",
   "execution_count": 13,
   "id": "0722f130",
   "metadata": {},
   "outputs": [
    {
     "name": "stdout",
     "output_type": "stream",
     "text": [
      "八、【vertical】垂直(堆疊)合併矩陣\n",
      "[[1 2]\n",
      " [3 4]\n",
      " [5 6]\n",
      " [7 8]]\n"
     ]
    }
   ],
   "source": [
    "print(\"八、【vertical】垂直(堆疊)合併矩陣\")\n",
    "print (np.vstack((a,b)))"
   ]
  },
  {
   "cell_type": "code",
   "execution_count": 14,
   "id": "55243723",
   "metadata": {},
   "outputs": [
    {
     "name": "stdout",
     "output_type": "stream",
     "text": [
      "隨機建立(2x12)列表 10*(元素0~1)取Floor\n",
      "[[6. 9. 0. 1. 8. 4. 5. 9. 5. 9. 4. 6.]\n",
      " [0. 2. 0. 0. 2. 4. 6. 0. 8. 3. 4. 5.]]\n"
     ]
    }
   ],
   "source": [
    "print(\"隨機建立(2x12)列表 10*(元素0~1)取Floor\")\n",
    "a = np.floor(10*np.random.random((2,12)))\n",
    "print (a)"
   ]
  },
  {
   "cell_type": "code",
   "execution_count": 15,
   "id": "ac96486f",
   "metadata": {},
   "outputs": [
    {
     "name": "stdout",
     "output_type": "stream",
     "text": [
      "九、將矩陣a(橫向)分割(縱刀)成3個矩陣\n",
      "[array([[6., 9., 0., 1.],\n",
      "       [0., 2., 0., 0.]]), array([[8., 4., 5., 9.],\n",
      "       [2., 4., 6., 0.]]), array([[5., 9., 4., 6.],\n",
      "       [8., 3., 4., 5.]])]\n"
     ]
    }
   ],
   "source": [
    "print(\"九、將矩陣a(橫向)分割(縱刀)成3個矩陣\")\n",
    "print (np.hsplit(a,3))"
   ]
  },
  {
   "cell_type": "code",
   "execution_count": 16,
   "id": "1d2af7f6",
   "metadata": {},
   "outputs": [
    {
     "name": "stdout",
     "output_type": "stream",
     "text": [
      "十、將矩陣a由(列的第3個元素(第4行)及第4個元素(第5行)做分割【第1個位置為0，分割線放左邊變array】\n",
      "[array([[6., 9., 0.],\n",
      "       [0., 2., 0.]]), array([[1.],\n",
      "       [0.]]), array([[8., 4., 5., 9., 5., 9., 4., 6.],\n",
      "       [2., 4., 6., 0., 8., 3., 4., 5.]])]\n"
     ]
    }
   ],
   "source": [
    "print(\"十、將矩陣a由(列的第3個元素(第4行)及第4個元素(第5行)做分割【第1個位置為0，分割線放左邊變array】\")\n",
    "print (np.hsplit(a,(3,4)))   "
   ]
  },
  {
   "cell_type": "code",
   "execution_count": 17,
   "id": "42e6b94f",
   "metadata": {},
   "outputs": [
    {
     "name": "stdout",
     "output_type": "stream",
     "text": [
      "隨機建立(12x2)列表 10*(元素0~1)取Floor\n",
      "[[3. 3.]\n",
      " [8. 6.]\n",
      " [8. 7.]\n",
      " [6. 3.]\n",
      " [8. 1.]\n",
      " [2. 5.]\n",
      " [0. 8.]\n",
      " [7. 8.]\n",
      " [4. 3.]\n",
      " [4. 3.]\n",
      " [6. 3.]\n",
      " [5. 2.]]\n"
     ]
    }
   ],
   "source": [
    "print(\"隨機建立(12x2)列表 10*(元素0~1)取Floor\")\n",
    "a = np.floor(10*np.random.random((12,2)))\n",
    "print (a)"
   ]
  },
  {
   "cell_type": "code",
   "execution_count": 18,
   "id": "3a12ede8",
   "metadata": {},
   "outputs": [
    {
     "name": "stdout",
     "output_type": "stream",
     "text": [
      "十一、將矩陣a(縱向)分割(橫刀)成3個矩陣\n",
      "[array([[3., 3.],\n",
      "       [8., 6.],\n",
      "       [8., 7.],\n",
      "       [6., 3.]]), array([[8., 1.],\n",
      "       [2., 5.],\n",
      "       [0., 8.],\n",
      "       [7., 8.]]), array([[4., 3.],\n",
      "       [4., 3.],\n",
      "       [6., 3.],\n",
      "       [5., 2.]])]\n"
     ]
    }
   ],
   "source": [
    "print(\"十一、將矩陣a(縱向)分割(橫刀)成3個矩陣\")\n",
    "print (np.vsplit(a,3))"
   ]
  },
  {
   "cell_type": "code",
   "execution_count": 19,
   "id": "e3ad86fd",
   "metadata": {},
   "outputs": [
    {
     "name": "stdout",
     "output_type": "stream",
     "text": [
      "十二、將矩陣a由(行的第3個元素(第4列)及第4個元素(第5列)做分割【第1個位置為0，分割線放上邊變array】\n",
      "[array([[3., 3.],\n",
      "       [8., 6.],\n",
      "       [8., 7.]]), array([[6., 3.],\n",
      "       [8., 1.],\n",
      "       [2., 5.]]), array([[0., 8.],\n",
      "       [7., 8.]]), array([[4., 3.],\n",
      "       [4., 3.],\n",
      "       [6., 3.],\n",
      "       [5., 2.]])]\n"
     ]
    }
   ],
   "source": [
    "print(\"十二、將矩陣a由(行的第3個元素(第4列)及第4個元素(第5列)做分割【第1個位置為0，分割線放上邊變array】\")\n",
    "print (np.vsplit(a,(3,6,8)))"
   ]
  },
  {
   "cell_type": "code",
   "execution_count": 20,
   "id": "89809bf7",
   "metadata": {},
   "outputs": [
    {
     "name": "stdout",
     "output_type": "stream",
     "text": [
      "建造一個(1x4)列表0~11\n",
      "a列表： [ 0  1  2  3  4  5  6  7  8  9 10 11]\n",
      "----------\n",
      "b列表： [ 0  1  2  3  4  5  6  7  8  9 10 11]\n"
     ]
    }
   ],
   "source": [
    "print(\"建造一個(1x4)列表0~11\")\n",
    "a = (np.arange(12))\n",
    "b = a\n",
    "print(\"a列表：\",a)\n",
    "print(\"----------\")\n",
    "print(\"b列表：\",b)"
   ]
  },
  {
   "cell_type": "code",
   "execution_count": 21,
   "id": "1437c910",
   "metadata": {},
   "outputs": [
    {
     "name": "stdout",
     "output_type": "stream",
     "text": [
      "十三、a & b 2個變數皆代表同一個(多維度)陣列\n",
      "更改列表形狀\n",
      "(3, 4)\n",
      "----------\n",
      "[[ 0  1  2  3]\n",
      " [ 4  5  6  7]\n",
      " [ 8  9 10 11]]\n",
      "----------\n",
      "[[ 0  1  2  3]\n",
      " [ 4  5  6  7]\n",
      " [ 8  9 10 11]]\n",
      "----------\n"
     ]
    }
   ],
   "source": [
    "print(\"十三、a & b 2個變數皆代表同一個(多維度)陣列\")\n",
    "b is a\n",
    "print(\"更改列表形狀\")\n",
    "b.shape = 3,4\n",
    "print (a.shape)\n",
    "print(\"----------\")\n",
    "print(a)\n",
    "print(\"----------\")\n",
    "print(b)\n",
    "print(\"----------\")"
   ]
  },
  {
   "cell_type": "code",
   "execution_count": 22,
   "id": "d289a55c",
   "metadata": {},
   "outputs": [
    {
     "name": "stdout",
     "output_type": "stream",
     "text": [
      "十四、列印a & b 所對應之列表ID(相同代表共用同一個列表)\n",
      "1803868530416\n",
      "1803868530416\n"
     ]
    }
   ],
   "source": [
    "print(\"十四、列印a & b 所對應之列表ID(相同代表共用同一個列表)\")\n",
    "print (id(a))\n",
    "print (id(b))"
   ]
  },
  {
   "cell_type": "code",
   "execution_count": 23,
   "id": "8791a0d0",
   "metadata": {},
   "outputs": [
    {
     "name": "stdout",
     "output_type": "stream",
     "text": [
      "十五、Data是一樣的但形狀可改變\n",
      "(3, 4)\n",
      "改變C的形狀(但元素不變)\n",
      "[[   0    1    2    3 1234    5]\n",
      " [   6    7    8    9   10   11]]\n",
      "改變c列表元素A列表也會跟著改變(共用資料)\n",
      "[[   0    1    2    3]\n",
      " [1234    5    6    7]\n",
      " [   8    9   10   11]]\n",
      "----------\n",
      "代表共用資料但是不同兩個列表\n",
      "1803868530416\n",
      "1803868415248\n"
     ]
    }
   ],
   "source": [
    "print(\"十五、Data是一樣的但形狀可改變\")\n",
    "c = a.view()\n",
    "c is a\n",
    "c.shape = 2,6\n",
    "print (a.shape)\n",
    "c[0,4] = 1234\n",
    "print (\"改變C的形狀(但元素不變)\")\n",
    "print(c)\n",
    "print (\"改變c列表元素A列表也會跟著改變(共用資料)\")\n",
    "print(a)\n",
    "print(\"----------\")\n",
    "print(\"代表共用資料但是不同兩個列表\")\n",
    "print(id(a))\n",
    "print(id(c))"
   ]
  },
  {
   "cell_type": "code",
   "execution_count": 24,
   "id": "7a985613",
   "metadata": {},
   "outputs": [
    {
     "name": "stdout",
     "output_type": "stream",
     "text": [
      "十六、copy將不影響原本的列表\n",
      "改變d列表中的元素\n",
      "[[9999    1    2    3]\n",
      " [1234    5    6    7]\n",
      " [   8    9   10   11]]\n",
      "\n",
      "\n",
      "a列表保持不變(不共用資料)\n",
      "[[   0    1    2    3]\n",
      " [1234    5    6    7]\n",
      " [   8    9   10   11]]\n",
      "\n",
      "\n",
      "表示a & c 為不同的列表也不共用資料\n",
      "1803868530416\n",
      "1803868415248\n"
     ]
    }
   ],
   "source": [
    "print(\"十六、copy將不影響原本的列表\")\n",
    "d = a.copy() \n",
    "d is a\n",
    "d[0,0] = 9999\n",
    "print(\"改變d列表中的元素\")\n",
    "print (d) \n",
    "print(\"\\n\")\n",
    "print(\"a列表保持不變(不共用資料)\")\n",
    "print (a)\n",
    "print(\"\\n\")\n",
    "print(\"表示a & c 為不同的列表也不共用資料\")\n",
    "print(id(a))\n",
    "print(id(c))"
   ]
  },
  {
   "cell_type": "code",
   "execution_count": null,
   "id": "6193be42",
   "metadata": {},
   "outputs": [],
   "source": []
  }
 ],
 "metadata": {
  "kernelspec": {
   "display_name": "Python 3",
   "language": "python",
   "name": "python3"
  },
  "language_info": {
   "codemirror_mode": {
    "name": "ipython",
    "version": 3
   },
   "file_extension": ".py",
   "mimetype": "text/x-python",
   "name": "python",
   "nbconvert_exporter": "python",
   "pygments_lexer": "ipython3",
   "version": "3.9.2"
  }
 },
 "nbformat": 4,
 "nbformat_minor": 5
}
