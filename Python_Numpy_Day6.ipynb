{
 "cells": [
  {
   "cell_type": "code",
   "execution_count": 1,
   "id": "80f59684",
   "metadata": {},
   "outputs": [
    {
     "name": "stdout",
     "output_type": "stream",
     "text": [
      "一、建立一個8x8的列表【元素皆為1】\n",
      "[[1. 1. 1. 1. 1. 1. 1. 1.]\n",
      " [1. 1. 1. 1. 1. 1. 1. 1.]\n",
      " [1. 1. 1. 1. 1. 1. 1. 1.]\n",
      " [1. 1. 1. 1. 1. 1. 1. 1.]\n",
      " [1. 1. 1. 1. 1. 1. 1. 1.]\n",
      " [1. 1. 1. 1. 1. 1. 1. 1.]\n",
      " [1. 1. 1. 1. 1. 1. 1. 1.]\n",
      " [1. 1. 1. 1. 1. 1. 1. 1.]]\n"
     ]
    }
   ],
   "source": [
    "#載入 Numpy 模組\n",
    "import numpy as np\n",
    "print(\"一、建立一個8x8的列表【元素皆為1】\")\n",
    "z = np.ones((8,8))\n",
    "print (z)"
   ]
  },
  {
   "cell_type": "code",
   "execution_count": 2,
   "id": "31f93c56",
   "metadata": {},
   "outputs": [
    {
     "name": "stdout",
     "output_type": "stream",
     "text": [
      "二、建立一個8x8的列表【元素皆為0】\n",
      "[[0 0 0 0 0 0 0 0]\n",
      " [0 0 0 0 0 0 0 0]\n",
      " [0 0 0 0 0 0 0 0]\n",
      " [0 0 0 0 0 0 0 0]\n",
      " [0 0 0 0 0 0 0 0]\n",
      " [0 0 0 0 0 0 0 0]\n",
      " [0 0 0 0 0 0 0 0]\n",
      " [0 0 0 0 0 0 0 0]]\n"
     ]
    }
   ],
   "source": [
    "print(\"二、建立一個8x8的列表【元素皆為0】\")\n",
    "z = np.zeros((8,8),dtype=int)\n",
    "print (z)"
   ]
  },
  {
   "cell_type": "code",
   "execution_count": 3,
   "id": "7700e7bf",
   "metadata": {},
   "outputs": [
    {
     "name": "stdout",
     "output_type": "stream",
     "text": [
      "三、第1列(含)每隔兩列 & 第0行(含)每隔兩行 =1 \n",
      "[[0 0 0 0 0 0 0 0]\n",
      " [1 0 1 0 1 0 1 0]\n",
      " [0 0 0 0 0 0 0 0]\n",
      " [1 0 1 0 1 0 1 0]\n",
      " [0 0 0 0 0 0 0 0]\n",
      " [1 0 1 0 1 0 1 0]\n",
      " [0 0 0 0 0 0 0 0]\n",
      " [1 0 1 0 1 0 1 0]]\n"
     ]
    }
   ],
   "source": [
    "# z [開始位置::距離下一列的距離]\n",
    "#z[1::4] 第1列都為1    下一列(1+4=5)皆為1  \n",
    "#  列     行\n",
    "# 1::2 , ::2\n",
    "\n",
    "print(\"三、第1列(含)每隔兩列 & 第0行(含)每隔兩行 =1 \")\n",
    "z[1::2,::2] = 1\n",
    "print (z)"
   ]
  },
  {
   "cell_type": "code",
   "execution_count": 4,
   "id": "b1c8e892",
   "metadata": {},
   "outputs": [
    {
     "name": "stdout",
     "output_type": "stream",
     "text": [
      "四、第0列(含)每隔兩列 & 第1行每隔兩行 =1 \n",
      "[[0 1 0 1 0 1 0 1]\n",
      " [1 0 1 0 1 0 1 0]\n",
      " [0 1 0 1 0 1 0 1]\n",
      " [1 0 1 0 1 0 1 0]\n",
      " [0 1 0 1 0 1 0 1]\n",
      " [1 0 1 0 1 0 1 0]\n",
      " [0 1 0 1 0 1 0 1]\n",
      " [1 0 1 0 1 0 1 0]]\n"
     ]
    }
   ],
   "source": [
    "print(\"四、第0列(含)每隔兩列 & 第1行每隔兩行 =1 \")\n",
    "z[::2,1::2] = 1\n",
    "print (z)"
   ]
  },
  {
   "cell_type": "code",
   "execution_count": 5,
   "id": "0397eca4",
   "metadata": {},
   "outputs": [
    {
     "name": "stdout",
     "output_type": "stream",
     "text": [
      "五、隨機建立5x5列表元素0~1之間\n",
      "[[0.30065736 0.89269421 0.2748534  0.05365058 0.6584911 ]\n",
      " [0.2011469  0.92340711 0.06546844 0.44974785 0.76010712]\n",
      " [0.93787381 0.6547456  0.13551976 0.96293849 0.35750707]\n",
      " [0.37476376 0.23233572 0.03476721 0.97478001 0.03414822]\n",
      " [0.07507676 0.58384428 0.59400963 0.7781294  0.71076678]]\n"
     ]
    }
   ],
   "source": [
    "print(\"五、隨機建立5x5列表元素0~1之間\")\n",
    "x = np.random.random((5,5))\n",
    "print(x)"
   ]
  },
  {
   "cell_type": "code",
   "execution_count": 7,
   "id": "837a86ea",
   "metadata": {},
   "outputs": [
    {
     "name": "stdout",
     "output_type": "stream",
     "text": [
      "六、列印出x列表中最小值\n",
      "min 0.03414821649363875\n"
     ]
    }
   ],
   "source": [
    "print(\"六、列印出x列表中最小值\")\n",
    "x1 = x.min()\n",
    "print(\"min\",x1)"
   ]
  },
  {
   "cell_type": "code",
   "execution_count": 8,
   "id": "95965846",
   "metadata": {},
   "outputs": [
    {
     "name": "stdout",
     "output_type": "stream",
     "text": [
      "七、列印出X列表中最大值\n",
      "max 0.9747800099794455\n"
     ]
    }
   ],
   "source": [
    "print(\"七、列印出X列表中最大值\")\n",
    "x2 = x.max()\n",
    "print(\"max\",x2)"
   ]
  },
  {
   "cell_type": "code",
   "execution_count": 9,
   "id": "6ef2284a",
   "metadata": {},
   "outputs": [
    {
     "name": "stdout",
     "output_type": "stream",
     "text": [
      "八、列印最大值及最小值\n",
      "0.03414821649363875 0.9747800099794455\n"
     ]
    }
   ],
   "source": [
    "print(\"八、列印最大值及最小值\")\n",
    "x3,x4=x.min(),x.max()\n",
    "print(x3,x4)"
   ]
  },
  {
   "cell_type": "code",
   "execution_count": 10,
   "id": "378ca6d6",
   "metadata": {},
   "outputs": [
    {
     "name": "stdout",
     "output_type": "stream",
     "text": [
      "九、特別印法\n",
      "最小值：0.03414821649363875最大值：0.9747800099794455\n"
     ]
    }
   ],
   "source": [
    "print(\"九、特別印法\")\n",
    "print(f\"最小值：{x3}\"f\"最大值：{x4}\")"
   ]
  },
  {
   "cell_type": "code",
   "execution_count": 11,
   "id": "231290c3",
   "metadata": {},
   "outputs": [
    {
     "name": "stdout",
     "output_type": "stream",
     "text": [
      "隨機建立一個5x5列表(元素0-10之間)\n",
      "[[4.14780418 3.12991513 9.63397776 6.47998805 1.97866096]\n",
      " [5.24711807 2.36952594 5.25617571 3.23007741 7.57039982]\n",
      " [7.83173554 5.97846321 8.50825183 6.67333084 7.23127182]\n",
      " [0.59020012 4.00731438 1.79322071 2.21703004 5.7957384 ]\n",
      " [6.71708636 2.31499873 6.82562031 5.18121093 4.79725817]]\n"
     ]
    }
   ],
   "source": [
    "print(\"隨機建立一個5x5列表(元素0-10之間)\")\n",
    "z = 10*np.random.random((5,5))\n",
    "print (z)"
   ]
  },
  {
   "cell_type": "code",
   "execution_count": 12,
   "id": "4ba51e81",
   "metadata": {},
   "outputs": [
    {
     "name": "stdout",
     "output_type": "stream",
     "text": [
      "九、列表最小最大值運算\n",
      "[[0.39337589 0.28082457 1.         0.65125307 0.15352665]\n",
      " [0.51493061 0.19674586 0.51593214 0.29189984 0.77182345]\n",
      " [0.8007202  0.59579783 0.87552481 0.67263161 0.73432497]\n",
      " [0.         0.37784147 0.13302191 0.17988389 0.57559335]\n",
      " [0.6774698  0.19071661 0.68947075 0.50764304 0.46518813]]\n"
     ]
    }
   ],
   "source": [
    "print(\"九、列表最小最大值運算\")\n",
    "zmin,zmax = z.min(),z.max()\n",
    "z = (z-zmin)/(zmax-zmin)                  \n",
    "print (z)"
   ]
  },
  {
   "cell_type": "code",
   "execution_count": 13,
   "id": "8a61bcf6",
   "metadata": {},
   "outputs": [
    {
     "name": "stdout",
     "output_type": "stream",
     "text": [
      "建立一個5x5列表(元素都為0-4)\n",
      "[0 1 2 3 4]\n",
      "[[0. 1. 2. 3. 4.]\n",
      " [0. 1. 2. 3. 4.]\n",
      " [0. 1. 2. 3. 4.]\n",
      " [0. 1. 2. 3. 4.]\n",
      " [0. 1. 2. 3. 4.]]\n"
     ]
    }
   ],
   "source": [
    "print(\"建立一個5x5列表(元素都為0-4)\")\n",
    "o = np.zeros((5,5))\n",
    "o += np.arange(5)\n",
    "print (np.arange(5))\n",
    "print (o)"
   ]
  },
  {
   "cell_type": "code",
   "execution_count": 14,
   "id": "02b684d8",
   "metadata": {},
   "outputs": [
    {
     "name": "stdout",
     "output_type": "stream",
     "text": [
      "十、從指定範圍內挑出樣本(樣本數自訂)，選擇是否包含起終點與是否列印樣本間隔\n",
      "(array([ 0.        ,  3.33333333,  6.66666667, 10.        ]), 3.3333333333333335)\n"
     ]
    }
   ],
   "source": [
    "# #生成0~10之间均匀分布的11个数，包括0和10\n",
    "#np.logspace(start, stop, num=50, endpoint=True, base=10.0, dtype=None)\n",
    "                          #個數   #包含(stop)結束 #以多少為底數 #dtype : bool(布林值), int(整數), float(浮點數), complex(複數)\n",
    "#numpy.linspace(start, stop, num=50, endpoint=True, retstep=False, dtype=None, axis=0)\n",
    "                #起點  #終點  #取樣數  #是否包含終點  #True 列印樣本距離 \n",
    "print(\"十、從指定範圍內挑出樣本(樣本數自訂)，選擇是否包含起終點與是否列印樣本間隔\")\n",
    "z = np.linspace(0,10,4,endpoint=True,retstep=True)\n",
    "print (z)"
   ]
  },
  {
   "cell_type": "code",
   "execution_count": 15,
   "id": "8900cf9d",
   "metadata": {},
   "outputs": [
    {
     "name": "stdout",
     "output_type": "stream",
     "text": [
      "十一、指定範圍分別列印出代入Log內運算\n",
      "[1. 4.]\n"
     ]
    }
   ],
   "source": [
    "print(\"十一、指定範圍分別列印出代入Log內運算\")\n",
    "e=np.logspace(0,2, num=2, endpoint=True, base=2, dtype=None)\n",
    "print(e)"
   ]
  },
  {
   "cell_type": "code",
   "execution_count": null,
   "id": "080f5b00",
   "metadata": {},
   "outputs": [],
   "source": []
  }
 ],
 "metadata": {
  "kernelspec": {
   "display_name": "Python 3",
   "language": "python",
   "name": "python3"
  },
  "language_info": {
   "codemirror_mode": {
    "name": "ipython",
    "version": 3
   },
   "file_extension": ".py",
   "mimetype": "text/x-python",
   "name": "python",
   "nbconvert_exporter": "python",
   "pygments_lexer": "ipython3",
   "version": "3.9.2"
  }
 },
 "nbformat": 4,
 "nbformat_minor": 5
}
