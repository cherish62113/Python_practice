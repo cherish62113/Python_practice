{
 "cells": [
  {
   "cell_type": "code",
   "execution_count": 2,
   "id": "0643f895",
   "metadata": {},
   "outputs": [],
   "source": [
    "#載入 numpy 模組\n",
    "import numpy as np\n"
   ]
  },
  {
   "cell_type": "code",
   "execution_count": 3,
   "id": "919f6962",
   "metadata": {},
   "outputs": [
    {
     "name": "stdout",
     "output_type": "stream",
     "text": [
      "一、比較1x4列表元素是否與10相等\n",
      "[False  True False False]\n"
     ]
    }
   ],
   "source": [
    "#創造一個1x4列表\n",
    "vector1 = np.array([5, 10, 15, 20])\n",
    "# == 是比較是否相等 \n",
    "print(\"一、比較1x4列表元素是否與10相等\")\n",
    "print(vector1 == 10)"
   ]
  },
  {
   "cell_type": "code",
   "execution_count": 4,
   "id": "44dbba3b",
   "metadata": {},
   "outputs": [
    {
     "name": "stdout",
     "output_type": "stream",
     "text": [
      "二、比較3x3列表元素是否與25相等\n",
      "[[False False False]\n",
      " [False  True False]\n",
      " [False False False]]\n"
     ]
    }
   ],
   "source": [
    "#創造一個3x3列表\n",
    "matrix1 = np.array([\n",
    "                    [5, 10, 15], \n",
    "                    [20, 25, 30],\n",
    "                    [35, 40, 45]\n",
    "                 ])\n",
    "#比較3x3列表中元素是否有與25相等\n",
    "print(\"二、比較3x3列表元素是否與25相等\")\n",
    "print(matrix1 == 25)"
   ]
  },
  {
   "cell_type": "code",
   "execution_count": 5,
   "id": "15bad3e6",
   "metadata": {},
   "outputs": [
    {
     "name": "stdout",
     "output_type": "stream",
     "text": [
      "三、比較1x4列表元素是否與10相等\n",
      "[False  True False False]\n"
     ]
    }
   ],
   "source": [
    "#創造一個1x4列表\n",
    "vector2 = np.array([5, 10, 15, 20])\n",
    "#比較是否與10相同 將結果放入 x\n",
    "x = (vector2 == 10)\n",
    "#印出x的結果  \n",
    "print(\"三、比較1x4列表元素是否與10相等\")\n",
    "print(x)"
   ]
  },
  {
   "cell_type": "code",
   "execution_count": 6,
   "id": "52704653",
   "metadata": {},
   "outputs": [
    {
     "name": "stdout",
     "output_type": "stream",
     "text": [
      "四、列印1x4列表中元素x\n",
      "[10]\n"
     ]
    }
   ],
   "source": [
    "#印出vector2[x]列表中的x    \n",
    "print(\"四、列印1x4列表中元素x\")\n",
    "print(vector2[x])"
   ]
  },
  {
   "cell_type": "code",
   "execution_count": 7,
   "id": "9bb7f899",
   "metadata": {},
   "outputs": [
    {
     "name": "stdout",
     "output_type": "stream",
     "text": [
      "五、列印3x3列表中(第二行)元素是否與25相等\n",
      "[False  True False]\n"
     ]
    }
   ],
   "source": [
    "#創造一個3x3的列表\n",
    "matrix2 = np.array([\n",
    "                [5, 10, 15], \n",
    "                [20, 25, 30],\n",
    "                [35, 40, 45]\n",
    "             ])\n",
    "\n",
    "#比較每列的第1的元素是否與25相等   \n",
    "y = (matrix2[:,1] == 25)\n",
    "#印出比較結果\n",
    "print(\"五、列印3x3列表中(第二行)元素是否與25相等\")\n",
    "print(y)"
   ]
  },
  {
   "cell_type": "code",
   "execution_count": 8,
   "id": "572e1093",
   "metadata": {},
   "outputs": [
    {
     "name": "stdout",
     "output_type": "stream",
     "text": [
      "六、列印3x3列表中(y所在的那一列)元素\n",
      "[[20 25 30]]\n"
     ]
    }
   ],
   "source": [
    "#印出y在的那一列\n",
    "print(\"六、列印3x3列表中(y所在的那一列)元素\")\n",
    "print(matrix2[y,:])"
   ]
  },
  {
   "cell_type": "code",
   "execution_count": 10,
   "id": "f81530b9",
   "metadata": {},
   "outputs": [
    {
     "name": "stdout",
     "output_type": "stream",
     "text": [
      "七、列印1x4列表中元素是否與10且5相等的元素\n",
      "[False False False False]\n"
     ]
    }
   ],
   "source": [
    "#創造一個1x4的列表\n",
    "vector3 = np.array([5, 10, 15, 20])\n",
    "#比較1x4列表是否與10或5相等的元素\n",
    "z = (vector3 == 10) & (vector3 == 5)\n",
    "print(\"七、列印1x4列表中元素是否與10且5相等的元素\")\n",
    "print(z)"
   ]
  },
  {
   "cell_type": "code",
   "execution_count": 11,
   "id": "ba07c219",
   "metadata": {},
   "outputs": [
    {
     "name": "stdout",
     "output_type": "stream",
     "text": [
      "八、列印1x4列表中元素是否與10或5相等的元素\n",
      "[ True  True False False]\n"
     ]
    }
   ],
   "source": [
    "#創造一個1x4的列表\n",
    "vector4 = np.array([5, 10, 15, 20])\n",
    "#比較1x4列表中是否與10或5相等的元素\n",
    "z = (vector4 == 10) | (vector4 == 5)\n",
    "print(\"八、列印1x4列表中元素是否與10或5相等的元素\")\n",
    "print (z)"
   ]
  },
  {
   "cell_type": "code",
   "execution_count": 12,
   "id": "65c4fb19",
   "metadata": {},
   "outputs": [
    {
     "name": "stdout",
     "output_type": "stream",
     "text": [
      "九、列印1x4列表並將與與原先是5或10的元素改成50\n",
      "[50 50 15 20]\n"
     ]
    }
   ],
   "source": [
    "#創造一個1x4列表\n",
    "vector5 = np.array([5, 10, 15, 20])\n",
    "#比較1x4的列表中元素與10或5相同的元素\n",
    "w = (vector5 == 10) | (vector5 == 5)\n",
    "#將1x4列表中與10或5相同的元素改成50\n",
    "vector5[w] = 50\n",
    "#列印1x4列表並將與與原先是5或10的元素改成50\n",
    "print(\"九、列印1x4列表並將與與原先是5或10的元素改成50\")\n",
    "print(vector5)"
   ]
  },
  {
   "cell_type": "code",
   "execution_count": 13,
   "id": "c75ab9e6",
   "metadata": {},
   "outputs": [
    {
     "name": "stdout",
     "output_type": "stream",
     "text": [
      "十、將3x3的列表將第二行元素是否與25相同並列印\n",
      "[False  True False]\n"
     ]
    }
   ],
   "source": [
    "#創造一個3x3的列表\n",
    "matrix3 = np.array([\n",
    "            [5, 10, 15], \n",
    "            [20, 25, 30],\n",
    "            [35, 40, 45]\n",
    "         ])\n",
    "#比較第二行的元素是否與25相同         \n",
    "x = matrix3[:,1] == 25\n",
    "#將3x3的列表將第二行元素是否與25相同並列印\n",
    "print(\"十、將3x3的列表將第二行元素是否與25相同並列印\")\n",
    "print (x)"
   ]
  },
  {
   "cell_type": "code",
   "execution_count": 14,
   "id": "dc08e05e",
   "metadata": {},
   "outputs": [
    {
     "name": "stdout",
     "output_type": "stream",
     "text": [
      "十一、將剛剛3x3的列表x所在的位置元素改成10並列印\n",
      "[[ 5 10 15]\n",
      " [20 10 30]\n",
      " [35 40 45]]\n"
     ]
    }
   ],
   "source": [
    "#將剛剛3x3的列表x所在的位置元素改成10\n",
    "matrix3[x, 1] = 10\n",
    "#將剛剛3x3的列表x所在的位置元素改成10並列印\n",
    "print(\"十一、將剛剛3x3的列表x所在的位置元素改成10並列印\")\n",
    "print (matrix3)"
   ]
  },
  {
   "cell_type": "code",
   "execution_count": 15,
   "id": "4b05e24c",
   "metadata": {},
   "outputs": [
    {
     "name": "stdout",
     "output_type": "stream",
     "text": [
      "十二、列印 vector6 的資料型態\n",
      "<U1\n"
     ]
    }
   ],
   "source": [
    "#創造一個1x3的列表，裡面元素型態為字串\n",
    "vector6 = np.array([\"1\", \"2\", \"3\"])\n",
    "\n",
    "#列印 vector6 的資料型態\n",
    "print(\"十二、列印 vector6 的資料型態\")\n",
    "print(vector6.dtype)"
   ]
  },
  {
   "cell_type": "code",
   "execution_count": 16,
   "id": "2e5f6475",
   "metadata": {},
   "outputs": [
    {
     "name": "stdout",
     "output_type": "stream",
     "text": [
      "十三、列印 vector6 的資料\n",
      "['1' '2' '3']\n"
     ]
    }
   ],
   "source": [
    "print(\"十三、列印 vector6 的資料\")\n",
    "print(vector6)"
   ]
  },
  {
   "cell_type": "code",
   "execution_count": 17,
   "id": "8c58d313",
   "metadata": {},
   "outputs": [
    {
     "name": "stdout",
     "output_type": "stream",
     "text": [
      "十四、列印 vector6 的資料型態\n",
      "float64\n"
     ]
    }
   ],
   "source": [
    "#將 vector6 的資料型態更改為浮點數(小數)                 # .astype\n",
    "vector6 = vector6.astype(float)\n",
    "\n",
    "#列印 vector6 的資料型態\n",
    "print(\"十四、列印 vector6 的資料型態\")\n",
    "print(vector6.dtype)"
   ]
  },
  {
   "cell_type": "code",
   "execution_count": 18,
   "id": "b0ad2f33",
   "metadata": {},
   "outputs": [
    {
     "name": "stdout",
     "output_type": "stream",
     "text": [
      "十五、列印 vector6 的資料\n",
      "[1. 2. 3.]\n"
     ]
    }
   ],
   "source": [
    "print(\"十五、列印 vector6 的資料\")\n",
    "print(vector6)"
   ]
  },
  {
   "cell_type": "code",
   "execution_count": 19,
   "id": "c214d742",
   "metadata": {},
   "outputs": [
    {
     "name": "stdout",
     "output_type": "stream",
     "text": [
      "十六、將1x4列表中所有元素相加\n",
      "50\n"
     ]
    }
   ],
   "source": [
    "#創造一個1x4的列表\n",
    "vector7 = np.array([5, 10, 15, 20])\n",
    "#將1x4列表中所有元素相加\n",
    "print(\"十六、將1x4列表中所有元素相加\")\n",
    "print(vector7.sum())"
   ]
  },
  {
   "cell_type": "code",
   "execution_count": 20,
   "id": "7dfd8722",
   "metadata": {},
   "outputs": [
    {
     "name": "stdout",
     "output_type": "stream",
     "text": [
      "十七、列印每一列的加總\n",
      "[ 30  75 120]\n"
     ]
    }
   ],
   "source": [
    "#創造一個3x3的列表\n",
    "matrix4 = np.array([\n",
    "                [5, 10, 15], \n",
    "                [20, 25, 30],\n",
    "                [35, 40, 45]\n",
    "             ])\n",
    "#列印每一列的加總\n",
    "print(\"十七、列印每一列的加總\")\n",
    "print(matrix4.sum(axis=1))"
   ]
  },
  {
   "cell_type": "code",
   "execution_count": 21,
   "id": "2b86e80a",
   "metadata": {},
   "outputs": [
    {
     "name": "stdout",
     "output_type": "stream",
     "text": [
      "十八、列印每一行的加總\n",
      "[60 75 90]\n"
     ]
    }
   ],
   "source": [
    "#列印每一列的加總\n",
    "print(\"十八、列印每一行的加總\")\n",
    "print(matrix4.sum(axis=0))"
   ]
  },
  {
   "cell_type": "code",
   "execution_count": 22,
   "id": "21d1c9a6",
   "metadata": {},
   "outputs": [
    {
     "name": "stdout",
     "output_type": "stream",
     "text": [
      "------------------------------\n",
      "Day2 結束\n",
      "------------------------------\n"
     ]
    }
   ],
   "source": [
    "print(\"------------------------------\")\n",
    "print(\"Day2 結束\")\n",
    "print(\"------------------------------\")"
   ]
  },
  {
   "cell_type": "code",
   "execution_count": null,
   "id": "144d2106",
   "metadata": {},
   "outputs": [],
   "source": []
  }
 ],
 "metadata": {
  "kernelspec": {
   "display_name": "Python 3",
   "language": "python",
   "name": "python3"
  },
  "language_info": {
   "codemirror_mode": {
    "name": "ipython",
    "version": 3
   },
   "file_extension": ".py",
   "mimetype": "text/x-python",
   "name": "python",
   "nbconvert_exporter": "python",
   "pygments_lexer": "ipython3",
   "version": "3.9.2"
  }
 },
 "nbformat": 4,
 "nbformat_minor": 5
}
