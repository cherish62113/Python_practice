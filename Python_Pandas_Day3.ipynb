{
 "cells": [
  {
   "cell_type": "code",
   "execution_count": 1,
   "id": "18c941f3",
   "metadata": {},
   "outputs": [
    {
     "name": "stdout",
     "output_type": "stream",
     "text": [
      "一、讀取csv檔並列印\n",
      "   PassengerId  Survived  Pclass  \\\n",
      "0            1         0       3   \n",
      "1            2         1       1   \n",
      "2            3         1       3   \n",
      "3            4         1       1   \n",
      "4            5         0       3   \n",
      "\n",
      "                                                Name     Sex   Age  SibSp  \\\n",
      "0                            Braund, Mr. Owen Harris    male  22.0      1   \n",
      "1  Cumings, Mrs. John Bradley (Florence Briggs Th...  female  38.0      1   \n",
      "2                             Heikkinen, Miss. Laina  female  26.0      0   \n",
      "3       Futrelle, Mrs. Jacques Heath (Lily May Peel)  female  35.0      1   \n",
      "4                           Allen, Mr. William Henry    male  35.0      0   \n",
      "\n",
      "   Parch            Ticket     Fare Cabin Embarked  \n",
      "0      0         A/5 21171   7.2500   NaN        S  \n",
      "1      0          PC 17599  71.2833   C85        C  \n",
      "2      0  STON/O2. 3101282   7.9250   NaN        S  \n",
      "3      0            113803  53.1000  C123        S  \n",
      "4      0            373450   8.0500   NaN        S  \n"
     ]
    }
   ],
   "source": [
    "import pandas as pd\n",
    "from pandas import Series,DataFrame\n",
    "import numpy as np\n",
    "print(\"一、讀取csv檔並列印\")\n",
    "titanic_survival = pd.read_csv(\"titanic_train.csv\")\n",
    "print(titanic_survival.head())"
   ]
  },
  {
   "cell_type": "code",
   "execution_count": 2,
   "id": "34442677",
   "metadata": {},
   "outputs": [
    {
     "name": "stdout",
     "output_type": "stream",
     "text": [
      "二、列印此檔案的(Age行)前10列(標題列0~9列)\n",
      "0     22.0\n",
      "1     38.0\n",
      "2     26.0\n",
      "3     35.0\n",
      "4     35.0\n",
      "5      NaN\n",
      "6     54.0\n",
      "7      2.0\n",
      "8     27.0\n",
      "9     14.0\n",
      "10     4.0\n",
      "Name: Age, dtype: float64\n"
     ]
    }
   ],
   "source": [
    "print(\"二、列印此檔案的(Age行)前10列(標題列0~9列)\")\n",
    "age = titanic_survival[\"Age\"]\n",
    "print(age.loc[0:10])"
   ]
  },
  {
   "cell_type": "code",
   "execution_count": 3,
   "id": "755e4b00",
   "metadata": {},
   "outputs": [
    {
     "name": "stdout",
     "output_type": "stream",
     "text": [
      "三、判斷age這欄是否有NaN\n",
      "0      False\n",
      "1      False\n",
      "2      False\n",
      "3      False\n",
      "4      False\n",
      "       ...  \n",
      "886    False\n",
      "887    False\n",
      "888     True\n",
      "889    False\n",
      "890    False\n",
      "Name: Age, Length: 891, dtype: bool\n"
     ]
    }
   ],
   "source": [
    "print(\"三、判斷age這欄是否有NaN\")\n",
    "age_is_null = pd.isnull(age)\n",
    "print (age_is_null)"
   ]
  },
  {
   "cell_type": "code",
   "execution_count": 4,
   "id": "59b2ea6e",
   "metadata": {},
   "outputs": [
    {
     "name": "stdout",
     "output_type": "stream",
     "text": [
      "四、只列印AGE行空值得列數\n",
      "5     NaN\n",
      "17    NaN\n",
      "19    NaN\n",
      "26    NaN\n",
      "28    NaN\n",
      "       ..\n",
      "859   NaN\n",
      "863   NaN\n",
      "868   NaN\n",
      "878   NaN\n",
      "888   NaN\n",
      "Name: Age, Length: 177, dtype: float64\n"
     ]
    }
   ],
   "source": [
    "print(\"四、只列印AGE行空值得列數\")\n",
    "age_null_true = age[age_is_null]\n",
    "print (age_null_true)"
   ]
  },
  {
   "cell_type": "code",
   "execution_count": 5,
   "id": "c58a627a",
   "metadata": {},
   "outputs": [
    {
     "name": "stdout",
     "output_type": "stream",
     "text": [
      "五、計算NaN的數量\n",
      "177\n"
     ]
    }
   ],
   "source": [
    "print(\"五、計算NaN的數量\")\n",
    "age_null_count = len(age_null_true)\n",
    "print(age_null_count)"
   ]
  },
  {
   "cell_type": "code",
   "execution_count": 6,
   "id": "595dada6",
   "metadata": {},
   "outputs": [
    {
     "name": "stdout",
     "output_type": "stream",
     "text": [
      "六、對缺值做處理，計算平均數\n",
      "平均年齡： nan\n"
     ]
    }
   ],
   "source": [
    "print(\"六、對缺值做處理，計算平均數\")\n",
    "mean_age = sum(titanic_survival['Age'])/len(titanic_survival['Age'])\n",
    "print (\"平均年齡：\",mean_age)"
   ]
  },
  {
   "cell_type": "code",
   "execution_count": 7,
   "id": "0f6d6800",
   "metadata": {},
   "outputs": [
    {
     "name": "stdout",
     "output_type": "stream",
     "text": [
      "七、對非空值做運算(方法一)平均數\n",
      "0      22.0\n",
      "1      38.0\n",
      "2      26.0\n",
      "3      35.0\n",
      "4      35.0\n",
      "       ... \n",
      "885    39.0\n",
      "886    27.0\n",
      "887    19.0\n",
      "889    26.0\n",
      "890    32.0\n",
      "Name: Age, Length: 714, dtype: float64\n",
      "八、對空值做運算(方法二)平均數\n",
      "29.69911764705882\n",
      "九、對空值做運算(方法三)，平均數忽略NaN算出平均值\n",
      "29.69911764705882\n"
     ]
    }
   ],
   "source": [
    "print(\"七、對非空值做運算(方法一)平均數\")\n",
    "good_ages = titanic_survival[\"Age\"][age_is_null == False]\n",
    "print (good_ages)\n",
    "print(\"八、對空值做運算(方法二)平均數\")\n",
    "correct_mean_age = sum(good_ages) / len(good_ages)\n",
    "print (correct_mean_age)\n",
    "print(\"九、對空值做運算(方法三)，平均數忽略NaN算出平均值\")\n",
    "correct_mean_age = titanic_survival[\"Age\"].mean()\n",
    "print (correct_mean_age)"
   ]
  },
  {
   "cell_type": "code",
   "execution_count": 8,
   "id": "1167a4a7",
   "metadata": {},
   "outputs": [
    {
     "name": "stdout",
     "output_type": "stream",
     "text": [
      "十、定義\n",
      "{1: 84.1546875, 2: 20.662183152173913, 3: 13.675550101832993}\n"
     ]
    }
   ],
   "source": [
    "print(\"十、定義\")\n",
    "passenger_classes = [1, 2, 3]\n",
    "fares_by_class = {}\n",
    "for this_class in passenger_classes:\n",
    "    pclass_rows = titanic_survival[titanic_survival[\"Pclass\"] == this_class]\n",
    "    pclass_fares = pclass_rows[\"Fare\"]\n",
    "    fare_for_class = pclass_fares.mean()\n",
    "    fares_by_class[this_class] = fare_for_class\n",
    "print (fares_by_class)"
   ]
  },
  {
   "cell_type": "code",
   "execution_count": 9,
   "id": "91e38b62",
   "metadata": {},
   "outputs": [
    {
     "name": "stdout",
     "output_type": "stream",
     "text": [
      "十一、運算index代表(依哪行資訊)分組,value代表要運算的值，aggfunc代表如何運算\n",
      "        Survived\n",
      "Pclass          \n",
      "1       0.629630\n",
      "2       0.472826\n",
      "3       0.242363\n"
     ]
    }
   ],
   "source": [
    "print(\"十一、運算index代表(依哪行資訊)分組,value代表要運算的值，aggfunc代表如何運算\")\n",
    "passenger_survival = titanic_survival.pivot_table(index=\"Pclass\", values=\"Survived\", aggfunc=np.mean)\n",
    "print (passenger_survival)"
   ]
  },
  {
   "cell_type": "code",
   "execution_count": 10,
   "id": "a3baa905",
   "metadata": {},
   "outputs": [
    {
     "name": "stdout",
     "output_type": "stream",
     "text": [
      "十二、預設運算為平均數\n",
      "              Age\n",
      "Pclass           \n",
      "1       38.233441\n",
      "2       29.877630\n",
      "3       25.140620\n"
     ]
    }
   ],
   "source": [
    "print(\"十二、預設運算為平均數\")\n",
    "passenger_age = titanic_survival.pivot_table(index=\"Pclass\", values=\"Age\")\n",
    "print(passenger_age)"
   ]
  },
  {
   "cell_type": "code",
   "execution_count": 11,
   "id": "c8dc79a0",
   "metadata": {},
   "outputs": [
    {
     "name": "stdout",
     "output_type": "stream",
     "text": [
      "十三、以Embarked分組，對資料(fare及Survived)作運算和\n",
      "                Fare  Survived\n",
      "Embarked                      \n",
      "C         10072.2962        93\n",
      "Q          1022.2543        30\n",
      "S         17439.3988       217\n"
     ]
    }
   ],
   "source": [
    "print(\"十三、以Embarked分組，對資料(fare及Survived)作運算和\")\n",
    "port_stats = titanic_survival.pivot_table(index=\"Embarked\", values=[\"Fare\",\"Survived\"], aggfunc=np.sum)\n",
    "print(port_stats)"
   ]
  },
  {
   "cell_type": "code",
   "execution_count": 12,
   "id": "ca0d9364",
   "metadata": {},
   "outputs": [
    {
     "name": "stdout",
     "output_type": "stream",
     "text": [
      "十四、去掉含有NaN的值的列標題那(行)\n",
      "     PassengerId  Survived  Pclass  \\\n",
      "0              1         0       3   \n",
      "1              2         1       1   \n",
      "2              3         1       3   \n",
      "3              4         1       1   \n",
      "4              5         0       3   \n",
      "..           ...       ...     ...   \n",
      "886          887         0       2   \n",
      "887          888         1       1   \n",
      "888          889         0       3   \n",
      "889          890         1       1   \n",
      "890          891         0       3   \n",
      "\n",
      "                                                  Name     Sex  SibSp  Parch  \\\n",
      "0                              Braund, Mr. Owen Harris    male      1      0   \n",
      "1    Cumings, Mrs. John Bradley (Florence Briggs Th...  female      1      0   \n",
      "2                               Heikkinen, Miss. Laina  female      0      0   \n",
      "3         Futrelle, Mrs. Jacques Heath (Lily May Peel)  female      1      0   \n",
      "4                             Allen, Mr. William Henry    male      0      0   \n",
      "..                                                 ...     ...    ...    ...   \n",
      "886                              Montvila, Rev. Juozas    male      0      0   \n",
      "887                       Graham, Miss. Margaret Edith  female      0      0   \n",
      "888           Johnston, Miss. Catherine Helen \"Carrie\"  female      1      2   \n",
      "889                              Behr, Mr. Karl Howell    male      0      0   \n",
      "890                                Dooley, Mr. Patrick    male      0      0   \n",
      "\n",
      "               Ticket     Fare  \n",
      "0           A/5 21171   7.2500  \n",
      "1            PC 17599  71.2833  \n",
      "2    STON/O2. 3101282   7.9250  \n",
      "3              113803  53.1000  \n",
      "4              373450   8.0500  \n",
      "..                ...      ...  \n",
      "886            211536  13.0000  \n",
      "887            112053  30.0000  \n",
      "888        W./C. 6607  23.4500  \n",
      "889            111369  30.0000  \n",
      "890            370376   7.7500  \n",
      "\n",
      "[891 rows x 9 columns]\n"
     ]
    }
   ],
   "source": [
    "# dropna： 去掉含有NaN的值\n",
    "# drop  ：去掉含有NaN的行列\n",
    "# fillna：將含有NaN的值以（0，平均值，中值等）代替\n",
    "print(\"十四、去掉含有NaN的值的列標題那(行)\")\n",
    "drop_na_columns = titanic_survival.dropna(axis=1)\n",
    "print (drop_na_columns)\n",
    "new_titanic_survival = titanic_survival.dropna(axis=0,subset=[\"Age\", \"Sex\"])"
   ]
  },
  {
   "cell_type": "code",
   "execution_count": 13,
   "id": "c1b0d5e9",
   "metadata": {},
   "outputs": [
    {
     "name": "stdout",
     "output_type": "stream",
     "text": [
      "十五、列印Age、Sex兩行並去掉含有NaN的值\n",
      "     PassengerId  Survived  Pclass  \\\n",
      "0              1         0       3   \n",
      "1              2         1       1   \n",
      "2              3         1       3   \n",
      "3              4         1       1   \n",
      "4              5         0       3   \n",
      "..           ...       ...     ...   \n",
      "885          886         0       3   \n",
      "886          887         0       2   \n",
      "887          888         1       1   \n",
      "889          890         1       1   \n",
      "890          891         0       3   \n",
      "\n",
      "                                                  Name     Sex   Age  SibSp  \\\n",
      "0                              Braund, Mr. Owen Harris    male  22.0      1   \n",
      "1    Cumings, Mrs. John Bradley (Florence Briggs Th...  female  38.0      1   \n",
      "2                               Heikkinen, Miss. Laina  female  26.0      0   \n",
      "3         Futrelle, Mrs. Jacques Heath (Lily May Peel)  female  35.0      1   \n",
      "4                             Allen, Mr. William Henry    male  35.0      0   \n",
      "..                                                 ...     ...   ...    ...   \n",
      "885               Rice, Mrs. William (Margaret Norton)  female  39.0      0   \n",
      "886                              Montvila, Rev. Juozas    male  27.0      0   \n",
      "887                       Graham, Miss. Margaret Edith  female  19.0      0   \n",
      "889                              Behr, Mr. Karl Howell    male  26.0      0   \n",
      "890                                Dooley, Mr. Patrick    male  32.0      0   \n",
      "\n",
      "     Parch            Ticket     Fare Cabin Embarked  \n",
      "0        0         A/5 21171   7.2500   NaN        S  \n",
      "1        0          PC 17599  71.2833   C85        C  \n",
      "2        0  STON/O2. 3101282   7.9250   NaN        S  \n",
      "3        0            113803  53.1000  C123        S  \n",
      "4        0            373450   8.0500   NaN        S  \n",
      "..     ...               ...      ...   ...      ...  \n",
      "885      5            382652  29.1250   NaN        Q  \n",
      "886      0            211536  13.0000   NaN        S  \n",
      "887      0            112053  30.0000   B42        S  \n",
      "889      0            111369  30.0000  C148        C  \n",
      "890      0            370376   7.7500   NaN        Q  \n",
      "\n",
      "[714 rows x 12 columns]\n"
     ]
    }
   ],
   "source": [
    "print(\"十五、列印Age、Sex兩行並去掉含有NaN的值\")\n",
    "print (new_titanic_survival)"
   ]
  },
  {
   "cell_type": "code",
   "execution_count": 14,
   "id": "483733ae",
   "metadata": {},
   "outputs": [
    {
     "name": "stdout",
     "output_type": "stream",
     "text": [
      "十六、列印Age行第83個(列)元素\n",
      "28.0\n",
      "十七、列印Pclass行第766個(列)元素\n",
      "1\n"
     ]
    }
   ],
   "source": [
    "print(\"十六、列印Age行第83個(列)元素\")\n",
    "row_index_83_age = titanic_survival.loc[83,\"Age\"]\n",
    "print (row_index_83_age)\n",
    "print(\"十七、列印Pclass行第766個(列)元素\")\n",
    "row_index_1000_pclass = titanic_survival.loc[766,\"Pclass\"]\n",
    "print (row_index_1000_pclass)"
   ]
  },
  {
   "cell_type": "code",
   "execution_count": 15,
   "id": "3641452e",
   "metadata": {},
   "outputs": [
    {
     "name": "stdout",
     "output_type": "stream",
     "text": [
      "十八、資料排序(反序)\n",
      "     PassengerId  Survived  Pclass                                  Name  \\\n",
      "630          631         1       1  Barkworth, Mr. Algernon Henry Wilson   \n",
      "851          852         0       3                   Svensson, Mr. Johan   \n",
      "493          494         0       1               Artagaveytia, Mr. Ramon   \n",
      "96            97         0       1             Goldschmidt, Mr. George B   \n",
      "116          117         0       3                  Connors, Mr. Patrick   \n",
      "672          673         0       2           Mitchell, Mr. Henry Michael   \n",
      "745          746         0       1          Crosby, Capt. Edward Gifford   \n",
      "33            34         0       2                 Wheadon, Mr. Edward H   \n",
      "54            55         0       1        Ostby, Mr. Engelhart Cornelius   \n",
      "280          281         0       3                      Duane, Mr. Frank   \n",
      "\n",
      "      Sex   Age  SibSp  Parch      Ticket     Fare Cabin Embarked  \n",
      "630  male  80.0      0      0       27042  30.0000   A23        S  \n",
      "851  male  74.0      0      0      347060   7.7750   NaN        S  \n",
      "493  male  71.0      0      0    PC 17609  49.5042   NaN        C  \n",
      "96   male  71.0      0      0    PC 17754  34.6542    A5        C  \n",
      "116  male  70.5      0      0      370369   7.7500   NaN        Q  \n",
      "672  male  70.0      0      0  C.A. 24580  10.5000   NaN        S  \n",
      "745  male  70.0      1      1   WE/P 5735  71.0000   B22        S  \n",
      "33   male  66.0      0      0  C.A. 24579  10.5000   NaN        S  \n",
      "54   male  65.0      0      1      113509  61.9792   B30        C  \n",
      "280  male  65.0      0      0      336439   7.7500   NaN        Q  \n",
      "十九、資料排序(正序)\n",
      "     PassengerId  Survived  Pclass                             Name     Sex  \\\n",
      "803          804         1       3  Thomas, Master. Assad Alexander    male   \n",
      "755          756         1       2        Hamalainen, Master. Viljo    male   \n",
      "644          645         1       3           Baclini, Miss. Eugenie  female   \n",
      "469          470         1       3    Baclini, Miss. Helene Barbara  female   \n",
      "78            79         1       2    Caldwell, Master. Alden Gates    male   \n",
      "831          832         1       2  Richards, Master. George Sibley    male   \n",
      "305          306         1       1   Allison, Master. Hudson Trevor    male   \n",
      "827          828         1       2            Mallet, Master. Andre    male   \n",
      "381          382         1       3      Nakid, Miss. Maria (\"Mary\")  female   \n",
      "164          165         0       3     Panula, Master. Eino Viljami    male   \n",
      "\n",
      "      Age  SibSp  Parch           Ticket      Fare    Cabin Embarked  \n",
      "803  0.42      0      1             2625    8.5167      NaN        C  \n",
      "755  0.67      1      1           250649   14.5000      NaN        S  \n",
      "644  0.75      2      1             2666   19.2583      NaN        C  \n",
      "469  0.75      2      1             2666   19.2583      NaN        C  \n",
      "78   0.83      0      2           248738   29.0000      NaN        S  \n",
      "831  0.83      1      1            29106   18.7500      NaN        S  \n",
      "305  0.92      1      2           113781  151.5500  C22 C26        S  \n",
      "827  1.00      0      2  S.C./PARIS 2079   37.0042      NaN        C  \n",
      "381  1.00      0      2             2653   15.7417      NaN        C  \n",
      "164  1.00      4      1          3101295   39.6875      NaN        S  \n",
      "二十、 【待研究】 (猜測解決別名問題(drop=True))\n",
      "   PassengerId  Survived  Pclass                             Name     Sex  \\\n",
      "0          804         1       3  Thomas, Master. Assad Alexander    male   \n",
      "1          756         1       2        Hamalainen, Master. Viljo    male   \n",
      "2          645         1       3           Baclini, Miss. Eugenie  female   \n",
      "3          470         1       3    Baclini, Miss. Helene Barbara  female   \n",
      "4           79         1       2    Caldwell, Master. Alden Gates    male   \n",
      "5          832         1       2  Richards, Master. George Sibley    male   \n",
      "6          306         1       1   Allison, Master. Hudson Trevor    male   \n",
      "7          828         1       2            Mallet, Master. Andre    male   \n",
      "8          382         1       3      Nakid, Miss. Maria (\"Mary\")  female   \n",
      "9          165         0       3     Panula, Master. Eino Viljami    male   \n",
      "\n",
      "    Age  SibSp  Parch           Ticket      Fare    Cabin Embarked  \n",
      "0  0.42      0      1             2625    8.5167      NaN        C  \n",
      "1  0.67      1      1           250649   14.5000      NaN        S  \n",
      "2  0.75      2      1             2666   19.2583      NaN        C  \n",
      "3  0.75      2      1             2666   19.2583      NaN        C  \n",
      "4  0.83      0      2           248738   29.0000      NaN        S  \n",
      "5  0.83      1      1            29106   18.7500      NaN        S  \n",
      "6  0.92      1      2           113781  151.5500  C22 C26        S  \n",
      "7  1.00      0      2  S.C./PARIS 2079   37.0042      NaN        C  \n",
      "8  1.00      0      2             2653   15.7417      NaN        C  \n",
      "9  1.00      4      1          3101295   39.6875      NaN        S  \n"
     ]
    }
   ],
   "source": [
    "print(\"十八、資料排序(反序)\")\n",
    "new_titanic_survival = titanic_survival.sort_values(\"Age\",ascending=False)\n",
    "print (new_titanic_survival[0:10])\n",
    "print(\"十九、資料排序(正序)\")\n",
    "new_titanic_survival = titanic_survival.sort_values(\"Age\",ascending=True)\n",
    "print (new_titanic_survival[0:10])\n",
    "print(\"二十、 【待研究】 (猜測解決別名問題(drop=True))\")\n",
    "titanic_reindexed = new_titanic_survival.reset_index(drop=True)\n",
    "print(titanic_reindexed.iloc[0:10])"
   ]
  },
  {
   "cell_type": "code",
   "execution_count": 16,
   "id": "f619ac6a",
   "metadata": {},
   "outputs": [
    {
     "name": "stdout",
     "output_type": "stream",
     "text": [
      "二十一、印出每一行的第99個元素\n",
      "PassengerId                  100\n",
      "Survived                       0\n",
      "Pclass                         2\n",
      "Name           Kantor, Mr. Sinai\n",
      "Sex                         male\n",
      "Age                         34.0\n",
      "SibSp                          1\n",
      "Parch                          0\n",
      "Ticket                    244367\n",
      "Fare                        26.0\n",
      "Cabin                        NaN\n",
      "Embarked                       S\n",
      "dtype: object\n"
     ]
    }
   ],
   "source": [
    "#定義 hundredth_row(column)\n",
    "#.iloc[0] 和 .iloc[[0]] 的差別就是一個取出的型態是 Series ，另一個是 DataFrame。\n",
    "def hundredth_row(column):\n",
    "    hundredth_item = column.iloc[99]\n",
    "    return hundredth_item\n",
    "\n",
    "print(\"二十一、印出每一行的第99個元素\")\n",
    "hundredth_row = titanic_survival.apply(hundredth_row)\n",
    "print (hundredth_row)"
   ]
  },
  {
   "cell_type": "code",
   "execution_count": 17,
   "id": "fa48b5f5",
   "metadata": {},
   "outputs": [
    {
     "name": "stdout",
     "output_type": "stream",
     "text": [
      "定義各行Null值得數量\n",
      "二十二、列印各行Null值得數量\n",
      "PassengerId      0\n",
      "Survived         0\n",
      "Pclass           0\n",
      "Name             0\n",
      "Sex              0\n",
      "Age            177\n",
      "SibSp            0\n",
      "Parch            0\n",
      "Ticket           0\n",
      "Fare             0\n",
      "Cabin          687\n",
      "Embarked         2\n",
      "dtype: int64\n"
     ]
    }
   ],
   "source": [
    "#pd.isnull(column) 判斷行內元素是否有null值\n",
    "print(\"定義各行Null值得數量\")\n",
    "def not_null_count(column):\n",
    "    column_null = pd.isnull(column)\n",
    "    null = column[column_null]\n",
    "    return len(null)\n",
    "print(\"二十二、列印各行Null值得數量\")\n",
    "column_null_count = titanic_survival.apply(not_null_count)\n",
    "print (column_null_count)"
   ]
  },
  {
   "cell_type": "code",
   "execution_count": 18,
   "id": "c8b79980",
   "metadata": {},
   "outputs": [
    {
     "name": "stdout",
     "output_type": "stream",
     "text": [
      "定義Pclass欄位1、2、3分別回傳First Class、Second Class、Third Class\n",
      "二十三、使用定義which_class將Pclass欄位列印回傳結果\n",
      "0       Third Class\n",
      "1       First Class\n",
      "2       Third Class\n",
      "3       First Class\n",
      "4       Third Class\n",
      "           ...     \n",
      "886    Second Class\n",
      "887     First Class\n",
      "888     Third Class\n",
      "889     First Class\n",
      "890     Third Class\n",
      "Length: 891, dtype: object\n"
     ]
    }
   ],
   "source": [
    "print(\"定義Pclass欄位1、2、3分別回傳First Class、Second Class、Third Class\")\n",
    "def which_class(row):\n",
    "    pclass = row['Pclass']\n",
    "    if pd.isnull(pclass):\n",
    "        return \"Unknown\"\n",
    "    elif pclass == 1:\n",
    "        return \"First Class\"\n",
    "    elif pclass == 2:\n",
    "        return \"Second Class\"\n",
    "    elif pclass == 3:\n",
    "        return \"Third Class\"\n",
    "print(\"二十三、使用定義which_class將Pclass欄位列印回傳結果\")\n",
    "classes = titanic_survival.apply(which_class, axis=1)\n",
    "print (classes)"
   ]
  },
  {
   "cell_type": "code",
   "execution_count": 19,
   "id": "bca9bbde",
   "metadata": {},
   "outputs": [
    {
     "name": "stdout",
     "output_type": "stream",
     "text": [
      "定義年齡小於18歲回傳Ture\n",
      "二十四、使用定義列印每一列年齡大於18歲為True否則為False\n",
      "0      False\n",
      "1      False\n",
      "2      False\n",
      "3      False\n",
      "4      False\n",
      "       ...  \n",
      "886    False\n",
      "887    False\n",
      "888    False\n",
      "889    False\n",
      "890    False\n",
      "Length: 891, dtype: bool\n"
     ]
    }
   ],
   "source": [
    "print(\"定義年齡小於18歲回傳Ture\")\n",
    "def is_minor(row):\n",
    "    if row[\"Age\"] < 18:\n",
    "        return True\n",
    "    else:\n",
    "        return False\n",
    "print(\"二十四、使用定義列印每一列年齡大於18歲為True否則為False\")\n",
    "minors = titanic_survival.apply(is_minor, axis=1)\n",
    "print (minors)"
   ]
  },
  {
   "cell_type": "code",
   "execution_count": 20,
   "id": "5ea6aeb9",
   "metadata": {},
   "outputs": [
    {
     "name": "stdout",
     "output_type": "stream",
     "text": [
      "定義將Age小於18回傳minor、大於18回傳adult、NaN回傳unknown\n",
      "二十五、使用定義列印年齡NaN為unknown小於18歲為minor大於18則為adult\n",
      "0        adult\n",
      "1        adult\n",
      "2        adult\n",
      "3        adult\n",
      "4        adult\n",
      "        ...   \n",
      "886      adult\n",
      "887      adult\n",
      "888    unknown\n",
      "889      adult\n",
      "890      adult\n",
      "Length: 891, dtype: object\n"
     ]
    }
   ],
   "source": [
    "print(\"定義將Age小於18回傳minor、大於18回傳adult、NaN回傳unknown\")\n",
    "def generate_age_label(row):\n",
    "    age = row[\"Age\"]\n",
    "    if pd.isnull(age):\n",
    "        return \"unknown\"\n",
    "    elif age < 18:\n",
    "        return \"minor\"\n",
    "    else:\n",
    "        return \"adult\"\n",
    "\n",
    "print(\"二十五、使用定義列印年齡NaN為unknown小於18歲為minor大於18則為adult\")\n",
    "age_labels = titanic_survival.apply(generate_age_label, axis=1)\n",
    "print (age_labels)"
   ]
  },
  {
   "cell_type": "code",
   "execution_count": 21,
   "id": "cbe9d092",
   "metadata": {},
   "outputs": [
    {
     "name": "stdout",
     "output_type": "stream",
     "text": [
      "二十六、計算平均數\n",
      "            Survived\n",
      "age_labels          \n",
      "adult       0.381032\n",
      "minor       0.539823\n",
      "unknown     0.293785\n"
     ]
    }
   ],
   "source": [
    "print(\"二十六、計算平均數\")\n",
    "titanic_survival['age_labels'] = age_labels\n",
    "age_group_survival = titanic_survival.pivot_table(index=\"age_labels\", values=\"Survived\")\n",
    "print (age_group_survival)"
   ]
  },
  {
   "cell_type": "code",
   "execution_count": null,
   "id": "01faa81c",
   "metadata": {},
   "outputs": [],
   "source": []
  }
 ],
 "metadata": {
  "kernelspec": {
   "display_name": "Python 3",
   "language": "python",
   "name": "python3"
  },
  "language_info": {
   "codemirror_mode": {
    "name": "ipython",
    "version": 3
   },
   "file_extension": ".py",
   "mimetype": "text/x-python",
   "name": "python",
   "nbconvert_exporter": "python",
   "pygments_lexer": "ipython3",
   "version": "3.9.2"
  }
 },
 "nbformat": 4,
 "nbformat_minor": 5
}
