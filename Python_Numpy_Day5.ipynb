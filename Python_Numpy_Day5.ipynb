{
 "cells": [
  {
   "cell_type": "code",
   "execution_count": 1,
   "id": "a2ae2ac2",
   "metadata": {},
   "outputs": [
    {
     "name": "stdout",
     "output_type": "stream",
     "text": [
      "一、建立一個5x4列表(元素分別為sin0,sin1,...,sin19)\n",
      "[[ 0.          0.84147098  0.90929743  0.14112001]\n",
      " [-0.7568025  -0.95892427 -0.2794155   0.6569866 ]\n",
      " [ 0.98935825  0.41211849 -0.54402111 -0.99999021]\n",
      " [-0.53657292  0.42016704  0.99060736  0.65028784]\n",
      " [-0.28790332 -0.96139749 -0.75098725  0.14987721]]\n"
     ]
    }
   ],
   "source": [
    "#載入 numpy 模組\n",
    "import numpy as np\n",
    "print(\"一、建立一個5x4列表(元素分別為sin0,sin1,...,sin19)\")\n",
    "data = np.sin(np.arange(20)).reshape(5,4)\n",
    "print (data)"
   ]
  },
  {
   "cell_type": "code",
   "execution_count": 2,
   "id": "2b66d3dc",
   "metadata": {},
   "outputs": [
    {
     "name": "stdout",
     "output_type": "stream",
     "text": [
      "二、找出每行的最大值的【位置】\n",
      "[2 0 3 1]\n"
     ]
    }
   ],
   "source": [
    "print(\"二、找出每行的最大值的【位置】\")\n",
    "ind = data.argmax(axis=0)\n",
    "print (ind)"
   ]
  },
  {
   "cell_type": "code",
   "execution_count": 3,
   "id": "bfdc6347",
   "metadata": {},
   "outputs": [
    {
     "name": "stdout",
     "output_type": "stream",
     "text": [
      "三、從range列表中選出最大值列印【以一維列表呈現】\n",
      "[0.98935825 0.84147098 0.99060736 0.6569866 ]\n"
     ]
    }
   ],
   "source": [
    "#Python3.0↑　xrange()包含在 range()\n",
    "print(\"三、從range列表中選出最大值列印【以一維列表呈現】\")\n",
    "data_max = data[ind, range(data.shape[1])] \n",
    "print (data_max)"
   ]
  },
  {
   "cell_type": "code",
   "execution_count": 4,
   "id": "9a91f0cc",
   "metadata": {},
   "outputs": [
    {
     "name": "stdout",
     "output_type": "stream",
     "text": [
      "四、比較兩邊的列表元素全相同則顯示True\n",
      "True\n"
     ]
    }
   ],
   "source": [
    "print(\"四、比較兩邊的列表元素全相同則顯示True\")\n",
    "print(all(data_max == data.max(axis=0)))"
   ]
  },
  {
   "cell_type": "code",
   "execution_count": 5,
   "id": "bc6db4c6",
   "metadata": {},
   "outputs": [
    {
     "name": "stdout",
     "output_type": "stream",
     "text": [
      "五、比較兩邊的列表只要存在一個元素相等則顯示True\n",
      "True\n"
     ]
    }
   ],
   "source": [
    "print(\"五、比較兩邊的列表只要存在一個元素相等則顯示True\")\n",
    "print(any(data_max == data.max(axis=0)))"
   ]
  },
  {
   "cell_type": "code",
   "execution_count": 6,
   "id": "92328452",
   "metadata": {},
   "outputs": [
    {
     "name": "stdout",
     "output_type": "stream",
     "text": [
      "六、arange(start,end(不含),等差10)\n",
      "[ 0 10 20 30]\n"
     ]
    }
   ],
   "source": [
    "print(\"六、arange(start,end(不含),等差10)\")\n",
    "a = np.arange(0, 40, 10)\n",
    "print (a)"
   ]
  },
  {
   "cell_type": "code",
   "execution_count": 7,
   "id": "d02f873c",
   "metadata": {},
   "outputs": [
    {
     "name": "stdout",
     "output_type": "stream",
     "text": [
      "七、建立3x5表格內容元素為a\n",
      "[[ 0 10 20 30  0 10 20 30  0 10 20 30  0 10 20 30  0 10 20 30]\n",
      " [ 0 10 20 30  0 10 20 30  0 10 20 30  0 10 20 30  0 10 20 30]\n",
      " [ 0 10 20 30  0 10 20 30  0 10 20 30  0 10 20 30  0 10 20 30]]\n"
     ]
    }
   ],
   "source": [
    "print(\"七、建立3x5表格內容元素為a\")\n",
    "b = np.tile(a, (3, 5)) \n",
    "print (b)"
   ]
  },
  {
   "cell_type": "code",
   "execution_count": 8,
   "id": "69395a4f",
   "metadata": {},
   "outputs": [
    {
     "name": "stdout",
     "output_type": "stream",
     "text": [
      "八、建立1x4表格內容元素為a\n",
      "[[ 0 10 20 30  0 10 20 30  0 10 20 30  0 10 20 30]]\n"
     ]
    }
   ],
   "source": [
    "print(\"八、建立1x4表格內容元素為a\")\n",
    "b = np.tile(a, (1, 4))\n",
    "print (b)"
   ]
  },
  {
   "cell_type": "code",
   "execution_count": 9,
   "id": "2fc8882e",
   "metadata": {},
   "outputs": [
    {
     "name": "stdout",
     "output_type": "stream",
     "text": [
      "建立一個2x3的列表\n",
      "[[4 3 5]\n",
      " [1 2 1]]\n"
     ]
    }
   ],
   "source": [
    "print(\"建立一個2x3的列表\")\n",
    "a = np.array([[4, 3, 5], [1, 2, 1]])\n",
    "print (a)"
   ]
  },
  {
   "cell_type": "code",
   "execution_count": 10,
   "id": "e13f436a",
   "metadata": {},
   "outputs": [
    {
     "name": "stdout",
     "output_type": "stream",
     "text": [
      "九、每一列由小到大做排序\n",
      "[[3 4 5]\n",
      " [1 1 2]]\n"
     ]
    }
   ],
   "source": [
    "print(\"九、每一列由小到大做排序\")\n",
    "b = np.sort(a, axis=1)\n",
    "print (b)"
   ]
  },
  {
   "cell_type": "code",
   "execution_count": 11,
   "id": "57bf0893",
   "metadata": {},
   "outputs": [
    {
     "name": "stdout",
     "output_type": "stream",
     "text": [
      "九、每一行由小到大做排序\n",
      "[[1 2 1]\n",
      " [4 3 5]]\n"
     ]
    }
   ],
   "source": [
    "print(\"九、每一行由小到大做排序\")\n",
    "b = np.sort(a, axis=0)\n",
    "print(b)"
   ]
  },
  {
   "cell_type": "code",
   "execution_count": 12,
   "id": "7bb1a3de",
   "metadata": {},
   "outputs": [
    {
     "name": "stdout",
     "output_type": "stream",
     "text": [
      "十、a列表,每一列由小到大做排序\n",
      "[[3 4 5]\n",
      " [1 1 2]]\n"
     ]
    }
   ],
   "source": [
    "print(\"十、a列表,每一列由小到大做排序\")\n",
    "a.sort(axis=1)\n",
    "print (a)"
   ]
  },
  {
   "cell_type": "code",
   "execution_count": 13,
   "id": "961a935c",
   "metadata": {},
   "outputs": [
    {
     "name": "stdout",
     "output_type": "stream",
     "text": [
      "十一、判斷是否為同一個列表\n",
      "2926816899312\n",
      "2926816902192\n"
     ]
    }
   ],
   "source": [
    "print(\"十一、判斷是否為同一個列表\")\n",
    "print (id(a))\n",
    "print (id(b))"
   ]
  },
  {
   "cell_type": "code",
   "execution_count": 14,
   "id": "04261d5d",
   "metadata": {},
   "outputs": [
    {
     "name": "stdout",
     "output_type": "stream",
     "text": [
      "建立1x4的列表\n",
      "十二、argsort 將列表由小到大的【位置】做排序\n",
      "[2 3 1 0]\n"
     ]
    }
   ],
   "source": [
    "print(\"建立1x4的列表\")\n",
    "a = np.array([4, 3, 1, 2])\n",
    "print(\"十二、argsort 將列表由小到大的【位置】做排序\")\n",
    "j = np.argsort(a)\n",
    "print (j)"
   ]
  },
  {
   "cell_type": "code",
   "execution_count": 15,
   "id": "eee001a8",
   "metadata": {},
   "outputs": [
    {
     "name": "stdout",
     "output_type": "stream",
     "text": [
      "十三、將列印a列表中[位置]，【由小到大】\n",
      "[1 2 3 4]\n"
     ]
    }
   ],
   "source": [
    "print(\"十三、將列印a列表中[位置]，【由小到大】\")\n",
    "print (a[j])"
   ]
  },
  {
   "cell_type": "code",
   "execution_count": null,
   "id": "d2f70810",
   "metadata": {},
   "outputs": [],
   "source": []
  }
 ],
 "metadata": {
  "kernelspec": {
   "display_name": "Python 3",
   "language": "python",
   "name": "python3"
  },
  "language_info": {
   "codemirror_mode": {
    "name": "ipython",
    "version": 3
   },
   "file_extension": ".py",
   "mimetype": "text/x-python",
   "name": "python",
   "nbconvert_exporter": "python",
   "pygments_lexer": "ipython3",
   "version": "3.9.2"
  }
 },
 "nbformat": 4,
 "nbformat_minor": 5
}
