{
 "cells": [
  {
   "cell_type": "code",
   "execution_count": 1,
   "id": "ed430659",
   "metadata": {},
   "outputs": [],
   "source": [
    "#安裝 Numpy 終端機輸入 \"pip install numpy\"\n",
    "# 載入 Numpy 模組 設定別名 np\n",
    "import numpy as np "
   ]
  },
  {
   "cell_type": "code",
   "execution_count": 2,
   "id": "760a96d0",
   "metadata": {},
   "outputs": [],
   "source": [
    "#開啟文本\n",
    "# 自訂變數 = np.genfromtxt(\"檔名.txt\", delimiter=\",\", dtype=\"U75\", skip_header=1)\n",
    "#delimiter=\",\"表示每列的資料之間使用，做分隔符號\n",
    "#dtype=\"U75\"表示資料以字串方式置入（75為置入的字的個數)\n",
    "#skip_header=1 ：表示從txt的第1列開始讀取(開頭為第零列)\n",
    "txt = np.genfromtxt(\"world_alcohol.txt\", delimiter=\",\", dtype=\"U75\", skip_header=1) "
   ]
  },
  {
   "cell_type": "code",
   "execution_count": 4,
   "id": "2035ec54",
   "metadata": {},
   "outputs": [
    {
     "name": "stdout",
     "output_type": "stream",
     "text": [
      "一、印出文本內容(跳過第零列)\n",
      "[['1986' 'Western Pacific' 'Viet Nam' 'Wine' '0']\n",
      " ['1986' 'Americas' 'Uruguay' 'Other' '0.5']\n",
      " ['1985' 'Africa' \"Cte d'Ivoire\" 'Wine' '1.62']\n",
      " ...\n",
      " ['1987' 'Africa' 'Malawi' 'Other' '0.75']\n",
      " ['1989' 'Americas' 'Bahamas' 'Wine' '1.5']\n",
      " ['1985' 'Africa' 'Malawi' 'Spirits' '0.31']]\n"
     ]
    }
   ],
   "source": [
    "#會列印出 NaN (Not a Number)  無法表示 \n",
    "print(\"一、印出文本內容(跳過第零列)\")\n",
    "print(txt)"
   ]
  },
  {
   "cell_type": "code",
   "execution_count": 6,
   "id": "3099880e",
   "metadata": {},
   "outputs": [
    {
     "name": "stdout",
     "output_type": "stream",
     "text": [
      "二、印出檔案的類型\n",
      "<class 'numpy.ndarray'>\n"
     ]
    }
   ],
   "source": [
    "print(\"二、印出檔案的類型\")\n",
    "print(type(txt))"
   ]
  },
  {
   "cell_type": "code",
   "execution_count": 7,
   "id": "dfebe369",
   "metadata": {},
   "outputs": [
    {
     "name": "stdout",
     "output_type": "stream",
     "text": [
      "三、列印剛剛所創1x4及3x3列表\n",
      "[ 5 10 15 20]\n",
      "[[ 5 10 15]\n",
      " [20 25 30]\n",
      " [35 40 45]]\n"
     ]
    }
   ],
   "source": [
    "#建立一個1x4的列表\n",
    "vector = np.array([5, 10, 15, 20])\n",
    "#建立一個3x3的列表 \n",
    "matrix = np.array([[5, 10, 15], [20, 25, 30], [35, 40, 45]])\n",
    "print (\"三、列印剛剛所創1x4及3x3列表\")\n",
    "print (vector)\n",
    "print (matrix)"
   ]
  },
  {
   "cell_type": "code",
   "execution_count": 9,
   "id": "b4c69c6d",
   "metadata": {},
   "outputs": [
    {
     "name": "stdout",
     "output_type": "stream",
     "text": [
      "四、列印vector的列表形狀\n",
      "(4,)\n"
     ]
    }
   ],
   "source": [
    "print(\"四、列印vector的列表形狀\")\n",
    "print(vector.shape)"
   ]
  },
  {
   "cell_type": "code",
   "execution_count": 10,
   "id": "801b8d60",
   "metadata": {},
   "outputs": [
    {
     "name": "stdout",
     "output_type": "stream",
     "text": [
      "五、列印vector的列表大小(元素個數)\n",
      "4\n"
     ]
    }
   ],
   "source": [
    "print(\"五、列印vector的列表大小(元素個數)\")\n",
    "print(vector.size)"
   ]
  },
  {
   "cell_type": "code",
   "execution_count": 11,
   "id": "701ed7c1",
   "metadata": {},
   "outputs": [
    {
     "name": "stdout",
     "output_type": "stream",
     "text": [
      "六、列印matrix的列表形狀\n",
      "(2, 3)\n"
     ]
    }
   ],
   "source": [
    "#建立一個2x3的列表          \n",
    "matrix = np.array([[5, 10, 15], [20, 25, 30]])\n",
    "\n",
    "print(\"六、列印matrix的列表形狀\")\n",
    "print(matrix.shape)"
   ]
  },
  {
   "cell_type": "code",
   "execution_count": 12,
   "id": "4b1bfa5f",
   "metadata": {},
   "outputs": [
    {
     "name": "stdout",
     "output_type": "stream",
     "text": [
      "七、列印matrix的列表大小(元素個數)\n",
      "6\n"
     ]
    }
   ],
   "source": [
    "print(\"七、列印matrix的列表大小(元素個數)\")\n",
    "print(matrix.size)"
   ]
  },
  {
   "cell_type": "code",
   "execution_count": 13,
   "id": "dbf9cc8f",
   "metadata": {},
   "outputs": [
    {
     "name": "stdout",
     "output_type": "stream",
     "text": [
      "八、列印出此列表元素的資料型態\n",
      "int32\n"
     ]
    }
   ],
   "source": [
    "#列表中每個元素必須為同類型 - 整數\n",
    "numbers = np.array([1, 2, 3, 4])\n",
    "\n",
    "print(\"八、列印出此列表元素的資料型態\")\n",
    "print(numbers.dtype)"
   ]
  },
  {
   "cell_type": "code",
   "execution_count": 14,
   "id": "8a1114bd",
   "metadata": {},
   "outputs": [
    {
     "name": "stdout",
     "output_type": "stream",
     "text": [
      "九、列印出此列表元素的資料型態\n",
      "float64\n"
     ]
    }
   ],
   "source": [
    "#列表中每個元素必須為同類型 - 浮點數(小數)\n",
    "numbers = np.array([1.214, 2, 3, 4])\n",
    "print(\"九、列印出此列表元素的資料型態\")\n",
    "print(numbers.dtype)"
   ]
  },
  {
   "cell_type": "code",
   "execution_count": 15,
   "id": "2ea4a124",
   "metadata": {},
   "outputs": [
    {
     "name": "stdout",
     "output_type": "stream",
     "text": [
      "十、列印出文本內列表位置[1,4][2,2]的元素\n",
      "0.5\n",
      "Cte d'Ivoire\n"
     ]
    }
   ],
   "source": [
    "#開頭皆為第0行第0列\n",
    "#指定文本列表中 [1,4] 第二列第五行的元素 放進 x 變數\n",
    "x = txt[1,4] \n",
    "#指定文本列表中 [2,2] 第三列第三行的元素 放進 y 變數\n",
    "y = txt[2,2] \n",
    "print(\"十、列印出文本內列表位置[1,4][2,2]的元素\")\n",
    "print (x)\n",
    "print (y)"
   ]
  },
  {
   "cell_type": "code",
   "execution_count": 16,
   "id": "c0f14851",
   "metadata": {},
   "outputs": [
    {
     "name": "stdout",
     "output_type": "stream",
     "text": [
      "十一、只列印vector列表中從第0個到第2個(不包含3)的元素\n",
      "[ 5 10 15]\n"
     ]
    }
   ],
   "source": [
    "# #創造一個1x4列表\n",
    "# vector = np.array([5, 10, 15, 20])\n",
    "#紙列印從第0個到第2個(不包含3)    印出5,10,15\n",
    "print(\"十一、只列印vector列表中從第0個到第2個(不包含3)的元素\")\n",
    "print(vector[0:3]) "
   ]
  },
  {
   "cell_type": "code",
   "execution_count": 17,
   "id": "bb34fa52",
   "metadata": {},
   "outputs": [
    {
     "name": "stdout",
     "output_type": "stream",
     "text": [
      "十二、列印第二行元素\n",
      "[10 25 40]\n"
     ]
    }
   ],
   "source": [
    "#創造一個3x3的列表 (二維)\n",
    "matrix = np.array([\n",
    "                    [5, 10, 15], \n",
    "                    [20, 25, 30],\n",
    "                    [35, 40, 45]\n",
    "                    ])\n",
    "print(\"十二、列印第二行元素\")                    \n",
    "print(matrix[:,1]) "
   ]
  },
  {
   "cell_type": "code",
   "execution_count": 18,
   "id": "2b202fda",
   "metadata": {},
   "outputs": [
    {
     "name": "stdout",
     "output_type": "stream",
     "text": [
      "十三、列印每列的第零個元素到第一個元素\n",
      "[[ 5 10]\n",
      " [20 25]\n",
      " [35 40]]\n"
     ]
    }
   ],
   "source": [
    "print(\"十三、列印每列的第零個元素到第一個元素\")\n",
    "print(matrix[:,0:2])"
   ]
  },
  {
   "cell_type": "code",
   "execution_count": 19,
   "id": "1cf19402",
   "metadata": {},
   "outputs": [
    {
     "name": "stdout",
     "output_type": "stream",
     "text": [
      "------------------------------\n",
      "Day1 結束\n",
      "------------------------------\n"
     ]
    }
   ],
   "source": [
    "print(\"------------------------------\")\n",
    "print(\"Day1 結束\")\n",
    "print(\"------------------------------\")"
   ]
  },
  {
   "cell_type": "code",
   "execution_count": null,
   "id": "8bbf8e9c",
   "metadata": {},
   "outputs": [],
   "source": []
  }
 ],
 "metadata": {
  "kernelspec": {
   "display_name": "Python 3",
   "language": "python",
   "name": "python3"
  },
  "language_info": {
   "codemirror_mode": {
    "name": "ipython",
    "version": 3
   },
   "file_extension": ".py",
   "mimetype": "text/x-python",
   "name": "python",
   "nbconvert_exporter": "python",
   "pygments_lexer": "ipython3",
   "version": "3.9.2"
  }
 },
 "nbformat": 4,
 "nbformat_minor": 5
}
